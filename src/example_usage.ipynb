{
 "cells": [
  {
   "attachments": {},
   "cell_type": "markdown",
   "metadata": {},
   "source": [
    "# Search Engine Demo \n",
    "\n",
    "Types of queries it can handle"
   ]
  },
  {
   "cell_type": "code",
   "execution_count": 1,
   "metadata": {},
   "outputs": [],
   "source": [
    "# imports\n",
    "\n",
    "from query_functions import search\n",
    "from setup import startup_engine\n",
    "import os"
   ]
  },
  {
   "cell_type": "code",
   "execution_count": 2,
   "metadata": {},
   "outputs": [],
   "source": [
    "# paths for our data (going one directory above)\n",
    "workdir = os.getcwd()\n",
    "parent_path = os.path.dirname(workdir)\n",
    "csv_path = parent_path + \"/data/tokenized/\"\n",
    "import glob \n",
    "csvs = glob.glob(csv_path + \"*.csv\")"
   ]
  },
  {
   "attachments": {},
   "cell_type": "markdown",
   "metadata": {},
   "source": [
    "## Step 1: Pipeline for extracting, cleaning and tokenizing text from pdfs\n",
    "\n",
    "### 1.1: Extracting text from pdfs\n",
    "\n",
    "The pdfs are extracted using the `fitz` Python library. `fitz`  is a wrapper around the `PyMuPDF` library. A pipeline is created to extract text from the pdfs and save them as `.pkl` files. The pipeline is as follows:\n",
    "\n",
    "1. Extract text from pdfs using `fitz`\n",
    "\n",
    "2. Store the contents of each file in a dictionary with `\"text\"` as the key and the extracted text separated page-wise in a list as the value. (in a `.pkl` file)\n",
    "\n",
    "3. Repeat for all pdfs and separate them in the same folder structure as the original pdfs. \n",
    "\n",
    "**Note:** Implementation of this step ican be found in the `cleaning.py` file. (fully documented)"
   ]
  },
  {
   "attachments": {},
   "cell_type": "markdown",
   "metadata": {},
   "source": [
    "### 1.2: Lemmatizing and creation of posting lists\n",
    "\n",
    "From the created `.pkl` files we create a `DataFrame` with the following columns:\n",
    "\n",
    "1. `id`: to uniquely identify passages ('documents' for our engine)\n",
    "\n",
    "2. `text`: the text of the passage (split based on two newlines `\\n \\n` and `\\n\\n` and restricted to ~ 3000 characters per passage)\n",
    "\n",
    "3. `tokenized`: the lemmatized version of the text in the paragraph (`spaCy` was used for lemmatization)\n",
    "\n",
    "4. `posting_list`: the posting list for the passage (unique lemmas from `tokenized`)\n",
    "\n",
    "5. `document_name`: the name of the pdf file from which the passage was extracted\n",
    "\n",
    "6. `page_number`: the page number of the pdf from which the passage was extracted\n",
    "\n",
    "7. `paragraph_number`: the paragraph number of the page from which the passage was extracted\n",
    "\n",
    "\n",
    "**Note:** Implementation of the above steps can be found in the `tokenizing.py` file. (fully documented)\n",
    "\n",
    "**Note 2:** The entire process outlined till here is in a pipeline, so adding new pdfs, new folders will not need any change of code except for the paths in the `cleaning.py` file."
   ]
  },
  {
   "attachments": {},
   "cell_type": "markdown",
   "metadata": {},
   "source": [
    "## Step 2: Construction of inverted index and permuterm indexes\n",
    "\n",
    "### 2.1: Inverted index\n",
    "\n",
    "The inverted index which is used for boolean querying and ranking later on is constructed using the `posting_list` column of the `DataFrame` created in the previous step. The inverted index is a dictionary with the keys as the unique lemmas and the values as the sorted list of documents in which the lemma occurs. \n",
    "\n",
    "The documents are sorted based on the `id` column of the `DataFrame` and the `id` is the index of the document in the `DataFrame`.\n",
    "\n",
    "The data structure used for this is the default Python `dict`, whose keys are `str`s and values are `LinkedList`s (implemented in in `LinkedList.py`).\n",
    "\n",
    "**Visual example:**\n",
    "\n",
    "```python\n",
    "{\n",
    "    \"lemma1\": [12] -> [34] -> [56] -> [78] -> [90],\n",
    "    \"lemma2\": [1] -> [2] -> [3] -> [4] -> [5] -> [6] -> [7] -> [8] -> [9] -> [10],\n",
    "}\n",
    "```"
   ]
  },
  {
   "attachments": {},
   "cell_type": "markdown",
   "metadata": {},
   "source": [
    "### 2.2: Permuterm indexes\n",
    "\n",
    "The permuterm indexes (normal and reverse) are constructed using the `inverted_index` created in the previous step. The permuterm indexes are dictionaries with the keys as the permuterm and the values as the sorted list of documents in which the permuterm occurs.\n",
    "\n",
    "Like the inverted index, the documents are sorted based on the `id` column of the `DataFrame` and the `id` is the index of the document in the `DataFrame`.\n",
    "\n",
    "**Visual example:**\n",
    "\n",
    "1. Normal permuterm index\n",
    "\n",
    "```python\n",
    "{\n",
    "    \"$lemma1\": [12] -> [34] -> [56] -> [78] -> [90],\n",
    "    \"$lemma\": [12] -> [34] -> [56] -> [78] -> [90], [108],\n",
    "    \"$lemm\" : [12] -> [34] -> [56] -> [78] -> [90], [108], [109],\n",
    "    \"$lem\"  : [12] -> [34] -> [56] -> [78] -> [90], [108], [109], [110],\n",
    "    \"$le\"   : [12] -> [34] -> [56] -> [78] -> [90], [108], [109], [110], [111],\n",
    "    \"$l\"    : [12] -> [34] -> [56] -> [78] -> [90], [108], [109], [110], [111], [112],\n",
    "\n",
    "}\n",
    "```\n",
    "\n",
    "2. Reverse permuterm index\n",
    "\n",
    "```python\n",
    "{\n",
    "    \"$1ammel\": [12] -> [34] -> [56] -> [78] -> [90],\n",
    "    \"$ammel\": [12] -> [34] -> [56] -> [78] -> [90], [108],\n",
    "    \"$mmel\" : [12] -> [34] -> [56] -> [78] -> [90], [108], [109],\n",
    "    \"$mel\"  : [12] -> [34] -> [56] -> [78] -> [90], [108], [109], [110],\n",
    "    \"$el\"   : [12] -> [34] -> [56] -> [78] -> [90], [108], [109], [110], [111],\n",
    "    \"$l\"    : [12] -> [34] -> [56] -> [78] -> [90], [108], [109], [110], [111], [112],\n",
    "}\n",
    "```"
   ]
  },
  {
   "attachments": {},
   "cell_type": "markdown",
   "metadata": {},
   "source": [
    "### 2.3 Biword index\n",
    "\n",
    "The biword index is used to query `phrase` queries. It is constructed using the `tokenized` column of the `DataFrame` created in the previous step. The biword index is a dictionary with the keys as the unique biwords and the values as the sorted list of documents in which the biword occurs.\n",
    "\n",
    "**Visual example:**\n",
    "\n",
    "```python\n",
    "{\n",
    "    \"lemma1 lemma2\": [12] -> [34] -> [56] -> [78] -> [90],\n",
    "    \"lemma2 lemma3\": [1] -> [2] -> [3] -> [4] -> [5] -> [6] -> [7] -> [8] -> [9] -> [10],\n",
    "}\n",
    "```\n",
    "\n",
    "\n",
    "Implementation of the above steps can be found in the `setup.py` file. (fully documented)\n",
    "\n",
    "**Note**: The indexes could not be saved as `.pkl` files due to the size of the indexes (hitting the maximum possible recursion limit in Python). So instead of saving these indexes, there is currently a function `start_engine` which creates and returns these indexes along with the main `DataFrame` which is used for lookups. "
   ]
  },
  {
   "cell_type": "code",
   "execution_count": 3,
   "metadata": {},
   "outputs": [],
   "source": [
    "inverted_list, perm_index, rev_perm_index, n_word_index, _, main_df = startup_engine(*csvs)"
   ]
  },
  {
   "attachments": {},
   "cell_type": "markdown",
   "metadata": {},
   "source": [
    "### Important statistics\n",
    "\n",
    "While the `start_engine` function takes around `30s` to create all required indexes, this is only a 1 time run per startup, and any subsequent query will be answered in `~0.1s` (for boolean retrieval and ranking) as can be seen later on."
   ]
  },
  {
   "attachments": {},
   "cell_type": "markdown",
   "metadata": {},
   "source": [
    "## Step 3: Boolean retrieval/filtering\n",
    "\n",
    "The boolean filter can either be used:\n",
    "\n",
    "1. Separately, if the user only wishes to filter the documents based on the query\n",
    "\n",
    "2. As a precursor to the ranking algorithm, if the user wishes to rank the documents based on the query, so that we wont have to rank documents which do not match the query. \n",
    "\n",
    "### 3.1: Free queries\n",
    "\n",
    "I've implemented querying of:\n",
    "\n",
    "1. `OR` queries: by default all words passed in the query string are treated as `OR` queries. For example, the query `information retrieval` will return all documents which contain either `information` or `retrieval` or both.\n",
    "\n",
    "2. `AND` queries: If any words in the query string are enclosed in double quotes, they are treated as `AND` queries. For example, the query `\"information retrieval\"` will return all documents which contain both `information` and `retrieval`. All other words not enclosed in double quotes (the `OR` parts of the query) won't be considered in the filtering. The ranking algorithm however will consider all words in the query."
   ]
  },
  {
   "cell_type": "code",
   "execution_count": 4,
   "metadata": {},
   "outputs": [],
   "source": [
    "def user_search(query, ranked=True, is_phrase=False, summarize=False, num_docs=None, spell_check=False, autocomplete=False, n_auto_results=5):\n",
    "    \"\"\"Simpler function to call the engine's search function without passing in the indexes\n",
    "    \"\"\"\n",
    "    return search(query, inverted_list, perm_index, rev_perm_index, n_word_index, main_df, ranked=ranked, is_phrase=is_phrase, show_summary=summarize, retrieve_n = num_docs, spell_check=spell_check, autocomplete=autocomplete, n_auto_results=n_auto_results)"
   ]
  },
  {
   "cell_type": "code",
   "execution_count": 5,
   "metadata": {},
   "outputs": [
    {
     "name": "stdout",
     "output_type": "stream",
     "text": [
      "Documents Retrieved: 1\n",
      "------------------------------------------------------------------------------------------\n",
      "------------------------------------------------------------------------------------------\n",
      "Rank: 1\n",
      "Document Name: complete-property-owner-policy-wording-policies-incepting-or-renewing-from-010418-acom686-11\n",
      "Page Number: 63\n",
      "Paragraph Number: 1\n",
      "Score: 21.654312876275398\n",
      "------------------------------------------------------------------------------------------\n",
      "------------------------------------------------------------------------------------------\n",
      "Paragraph Text: \n",
      "61Complete Property Owner Policy Wording9Know your rightsAny individual whose personal information we hold has theright to:• object to us processing it. We will either agree to stopprocessing or explain why we are unable to (the right toobject)• ask for a copy of their personal information we hold, subjectto certain exemptions (a data subject access request)• ask us to update or correct their personal information toensure its accuracy (the right of rectification)• ask us to delete their personal information from our recordsif it is no longer needed for the original purpose (the right tobe forgotten)• ask us to restrict the processing of their personal informationin certain circumstances (the right of restriction)• ask for a copy of their personal information, so it can be usedfor their own purposes (the right to data portability)• complain if they feel their personal information has beenmishandled. We encourage individuals to come to us in thefirst instance but they are entitled to complain directly to theInformation Commissioner’s Office (ICO) www.ico.org.uk• ask us, at any time, to stop processing their personalinformation, if the processing is based only on individualconsent (the right to withdraw consent) If you wish to exercise any of these rights please contact ourCustomer Satisfaction Manager:Address: Customer Satisfaction Manager, Allianz, 57 Ladymead,Guildford, Surrey, GU1 1DBEmail: acccsm@allianz.co.ukPhone: 01483 55243810 Allianz (UK) Group Data Protection Officer Contact details Allianz Insurance plc and Allianz Engineering Inspection ServicesLimited are companies within the Allianz Holdings Any queries about how we use personal information should beaddressed to our Data Protection Officer:Address: Data Protection Officer, Allianz, 57 Ladymead, Guildford,Surrey GU1 1DBEmail: dataprotectionofficer@allianz.co.ukPhone: 0330 102 18376Sharing personal informationWe may share personal information with:• other companies within the global Allianz Groupwww.allianz.com• credit reference, fraud prevention and other agencies thatcarry out certain activities on our behalf, for example, theMotor Insurance Database (MID), the Insurance Fraud Bureau(IFB) and marketing agencies if agreed• our approved suppliers to help deal with claims or provideour benefit services, for example, vehicle repairers, legaladvisors and loss adjusters• other insurers, third party underwriters, reinsurers, insuranceintermediaries, regulators, law enforcement and the FinancialOmbudsman Service (FOS); and other companies thatprovide services to us or you, for example, the EmployersLiability Tracing Office (ELTO) and the Claims andUnderwriting Exchange (CUE)• prospective buyers in the event that we wish to sell all or partof our business 7Transferring personal information outside the UKWe use servers located in the European Union (EU) to storepersonal information where it is protected by laws equivalent to\n",
      "------------------------------------------------------------------------------------------\n",
      "------------------------------------------------------------------------------------------\n",
      "------------------------------------------------------------------------------------------\n"
     ]
    }
   ],
   "source": [
    "# Defaults to a ranked `OR` query\n",
    "user_search(\"protection officer\", num_docs=1)    "
   ]
  },
  {
   "cell_type": "code",
   "execution_count": 6,
   "metadata": {},
   "outputs": [
    {
     "name": "stdout",
     "output_type": "stream",
     "text": [
      "Documents Retrieved: 1\n",
      "Unranked Search Results: Boolean Retrieval\n",
      "------------------------------------------------------------------------------------------\n",
      "------------------------------------------------------------------------------------------\n",
      "Rank: 1\n",
      "Document Name: 5105072011_booklet\n",
      "Page Number: 6\n",
      "Paragraph Number: 1\n",
      "Score: None\n",
      "------------------------------------------------------------------------------------------\n",
      "------------------------------------------------------------------------------------------\n",
      "Paragraph Text: \n",
      "SAMPLE DOCUMENT2 damages are directly caused by actual physical injury to the person claiming damages. Business – means any full or part time activity from which any insured may derive an economic benefit, regardless of profit or loss. Business includes, but is not limited to, commercial enterprise, trade, hobby, profession, occupation or employment, or the renting, leasing or holding for rental or lease of any part of any premises by any insured. If an insured provides home day care services to a person or persons other than insureds and receives monetary or other compensation for such services, that activity is a business. Mutual exchange of home day care services, however, is not considered compensation. The rendering of home day care services by an insured to a relative of an insured is not considered a business. Depreciation - means the lessening of the economic value of any property because of age, wear and tear or obsolescence. Drug - means any controlled substance as defined by federal or state law. Drug includes but is not limited to cocaine, LSD, marijuana, methamphetamine and all narcotics. Electronic data processing equipment – means: 1. Computer hardware, including any: a. internal and external components; b. peripheral devices; and c. storage or recording media. 2. Computer software, meaning computer: a. programs; and b. applications. Fungi - means any type or form of fungus, including mold or mildew, and any mycotoxins, spores, scents or by-products produced or released by fungi. Under SECTION II, this does not include any fungi that are, are on, or are contained in, products or goods intended for consumption. \n",
      "------------------------------------------------------------------------------------------\n",
      "------------------------------------------------------------------------------------------\n",
      "------------------------------------------------------------------------------------------\n"
     ]
    }
   ],
   "source": [
    "# Unranked `OR` query\n",
    "user_search(\"protection detailed data\", ranked=False, num_docs=1)"
   ]
  },
  {
   "cell_type": "code",
   "execution_count": 7,
   "metadata": {},
   "outputs": [
    {
     "name": "stdout",
     "output_type": "stream",
     "text": [
      "Documents Retrieved: 1\n",
      "------------------------------------------------------------------------------------------\n",
      "------------------------------------------------------------------------------------------\n",
      "Rank: 1\n",
      "Document Name: complete-property-owner-policy-wording-policies-incepting-or-renewing-from-010418-acom686-11\n",
      "Page Number: 63\n",
      "Paragraph Number: 1\n",
      "Score: 21.654312876275398\n",
      "------------------------------------------------------------------------------------------\n",
      "------------------------------------------------------------------------------------------\n",
      "Paragraph Text: \n",
      "61Complete Property Owner Policy Wording9Know your rightsAny individual whose personal information we hold has theright to:• object to us processing it. We will either agree to stopprocessing or explain why we are unable to (the right toobject)• ask for a copy of their personal information we hold, subjectto certain exemptions (a data subject access request)• ask us to update or correct their personal information toensure its accuracy (the right of rectification)• ask us to delete their personal information from our recordsif it is no longer needed for the original purpose (the right tobe forgotten)• ask us to restrict the processing of their personal informationin certain circumstances (the right of restriction)• ask for a copy of their personal information, so it can be usedfor their own purposes (the right to data portability)• complain if they feel their personal information has beenmishandled. We encourage individuals to come to us in thefirst instance but they are entitled to complain directly to theInformation Commissioner’s Office (ICO) www.ico.org.uk• ask us, at any time, to stop processing their personalinformation, if the processing is based only on individualconsent (the right to withdraw consent) If you wish to exercise any of these rights please contact ourCustomer Satisfaction Manager:Address: Customer Satisfaction Manager, Allianz, 57 Ladymead,Guildford, Surrey, GU1 1DBEmail: acccsm@allianz.co.ukPhone: 01483 55243810 Allianz (UK) Group Data Protection Officer Contact details Allianz Insurance plc and Allianz Engineering Inspection ServicesLimited are companies within the Allianz Holdings Any queries about how we use personal information should beaddressed to our Data Protection Officer:Address: Data Protection Officer, Allianz, 57 Ladymead, Guildford,Surrey GU1 1DBEmail: dataprotectionofficer@allianz.co.ukPhone: 0330 102 18376Sharing personal informationWe may share personal information with:• other companies within the global Allianz Groupwww.allianz.com• credit reference, fraud prevention and other agencies thatcarry out certain activities on our behalf, for example, theMotor Insurance Database (MID), the Insurance Fraud Bureau(IFB) and marketing agencies if agreed• our approved suppliers to help deal with claims or provideour benefit services, for example, vehicle repairers, legaladvisors and loss adjusters• other insurers, third party underwriters, reinsurers, insuranceintermediaries, regulators, law enforcement and the FinancialOmbudsman Service (FOS); and other companies thatprovide services to us or you, for example, the EmployersLiability Tracing Office (ELTO) and the Claims andUnderwriting Exchange (CUE)• prospective buyers in the event that we wish to sell all or partof our business 7Transferring personal information outside the UKWe use servers located in the European Union (EU) to storepersonal information where it is protected by laws equivalent to\n",
      "------------------------------------------------------------------------------------------\n",
      "------------------------------------------------------------------------------------------\n",
      "------------------------------------------------------------------------------------------\n"
     ]
    }
   ],
   "source": [
    "# Ranked `AND` query\n",
    "user_search(\"\\\"protection\\\" officer\", num_docs=1)"
   ]
  },
  {
   "attachments": {},
   "cell_type": "markdown",
   "metadata": {},
   "source": [
    "### 3.2: Phrase queries\n",
    "\n",
    "The phrase queries are implemented using the biword index. The query string is split into biwords and the documents which contain all the biwords are returned. To set your query as a phrase query/ give importance to the order of the words in the query, set the `is_phrase` parameter to `True` in the `search` function.\n"
   ]
  },
  {
   "cell_type": "code",
   "execution_count": 8,
   "metadata": {},
   "outputs": [
    {
     "name": "stdout",
     "output_type": "stream",
     "text": [
      "Documents Retrieved: 1\n",
      "------------------------------------------------------------------------------------------\n",
      "------------------------------------------------------------------------------------------\n",
      "Rank: 1\n",
      "Document Name: complete-property-owner-policy-wording-policies-incepting-or-renewing-from-010418-acom686-11\n",
      "Page Number: 63\n",
      "Paragraph Number: 1\n",
      "Score: 21.654312876275398\n",
      "------------------------------------------------------------------------------------------\n",
      "------------------------------------------------------------------------------------------\n",
      "Paragraph Text: \n",
      "61Complete Property Owner Policy Wording9Know your rightsAny individual whose personal information we hold has theright to:• object to us processing it. We will either agree to stopprocessing or explain why we are unable to (the right toobject)• ask for a copy of their personal information we hold, subjectto certain exemptions (a data subject access request)• ask us to update or correct their personal information toensure its accuracy (the right of rectification)• ask us to delete their personal information from our recordsif it is no longer needed for the original purpose (the right tobe forgotten)• ask us to restrict the processing of their personal informationin certain circumstances (the right of restriction)• ask for a copy of their personal information, so it can be usedfor their own purposes (the right to data portability)• complain if they feel their personal information has beenmishandled. We encourage individuals to come to us in thefirst instance but they are entitled to complain directly to theInformation Commissioner’s Office (ICO) www.ico.org.uk• ask us, at any time, to stop processing their personalinformation, if the processing is based only on individualconsent (the right to withdraw consent) If you wish to exercise any of these rights please contact ourCustomer Satisfaction Manager:Address: Customer Satisfaction Manager, Allianz, 57 Ladymead,Guildford, Surrey, GU1 1DBEmail: acccsm@allianz.co.ukPhone: 01483 55243810 Allianz (UK) Group Data Protection Officer Contact details Allianz Insurance plc and Allianz Engineering Inspection ServicesLimited are companies within the Allianz Holdings Any queries about how we use personal information should beaddressed to our Data Protection Officer:Address: Data Protection Officer, Allianz, 57 Ladymead, Guildford,Surrey GU1 1DBEmail: dataprotectionofficer@allianz.co.ukPhone: 0330 102 18376Sharing personal informationWe may share personal information with:• other companies within the global Allianz Groupwww.allianz.com• credit reference, fraud prevention and other agencies thatcarry out certain activities on our behalf, for example, theMotor Insurance Database (MID), the Insurance Fraud Bureau(IFB) and marketing agencies if agreed• our approved suppliers to help deal with claims or provideour benefit services, for example, vehicle repairers, legaladvisors and loss adjusters• other insurers, third party underwriters, reinsurers, insuranceintermediaries, regulators, law enforcement and the FinancialOmbudsman Service (FOS); and other companies thatprovide services to us or you, for example, the EmployersLiability Tracing Office (ELTO) and the Claims andUnderwriting Exchange (CUE)• prospective buyers in the event that we wish to sell all or partof our business 7Transferring personal information outside the UKWe use servers located in the European Union (EU) to storepersonal information where it is protected by laws equivalent to\n",
      "------------------------------------------------------------------------------------------\n",
      "------------------------------------------------------------------------------------------\n",
      "------------------------------------------------------------------------------------------\n"
     ]
    }
   ],
   "source": [
    "# Ranked `phrase` query\n",
    "user_search(\"Protection Officer\", is_phrase=True, num_docs=1)"
   ]
  },
  {
   "attachments": {},
   "cell_type": "markdown",
   "metadata": {},
   "source": [
    "### 3.3: Wildcard matching\n",
    "\n",
    "Wildcards are automatically detected in the query string and the documents which contain the wildcard are returned. The wildcard can be placed anywhere in the query string. For example, the query `infor*` will return all documents which contain words starting with `infor`. The query `*tion` will return all documents which contain words ending with `tion`. The query `inf*tion` will return all documents which contain words starting with `inf` and ending with `tion`.\n",
    "\n",
    "As of now, only one wildcard is supported in each query word of the string. As in `p*y*n d*iv*` will be translated to `p*n d*` in the backend."
   ]
  },
  {
   "cell_type": "code",
   "execution_count": 9,
   "metadata": {},
   "outputs": [
    {
     "name": "stdout",
     "output_type": "stream",
     "text": [
      "Documents Retrieved: 1\n",
      "------------------------------------------------------------------------------------------\n",
      "------------------------------------------------------------------------------------------\n",
      "Rank: 1\n",
      "Document Name: Property-Owner-Policy-Wording\n",
      "Page Number: 66\n",
      "Paragraph Number: 1\n",
      "Score: 276.5811681853387\n",
      "------------------------------------------------------------------------------------------\n",
      "------------------------------------------------------------------------------------------\n",
      "Paragraph Text: \n",
      "64 | Complete Property Owners InsuranceNuclear InstallationAny installation of such class or description as may beprescribed by regulations made by the relevant Secretaryof State from time to time by statutory instrument, beingan installation designed for or adapted for1 the production or use of atomic energy or2 the carrying out of any process which is preparatory orancillary to the production or use of atomic energy andwhich involves or is capable of causing the emission ofionising radiations or3 the storage, processing or disposal of nuclear fuel or ofbulk quantities of other radioactive matter, beingmatter which has been produced or irradiated in thecourse of the production or use of nuclear fuel Nuclear ReactorAny plant (including any machinery, equipment orappliance, whether affixed to land or not) designed oradapted for the production of atomic energy by a fissionprocess in which a controlled chain reaction can bemaintained without an additional source of neutrons Virus or Similar MechanismProgram code, programming instruction or any set ofinstructions intentionally constructed with the ability todamage, interfere with or otherwise adversely affectcomputer programs, data files or operations, whetherinvolving self-replication or not. The definition of Virus orSimilar Mechanism includes but is not limited to trojanhorses, worms and logic bombs HackingUnauthorised access to any computer or other equipmentor component or system or item which processes, stores,transmits or retrieves data, whether the property of theInsured or not PhishingAny access or attempted access to data or informationmade by means of misrepresentation or deceptionDenial of Service AttackAny actions or instructions constructed or generated withthe ability to damage, interfere with or otherwise affectthe availability of networks, network services, networkconnectivity or information systems. Denial of ServiceAttacks include, but are not limited to, the generation ofexcess traffic into network addresses, the exploitation ofsystem or network weaknesses, and the generation ofexcess or non-genuine traffic between and amongstnetworks CoverThe lnsurer will pay the Insured fora Damage, orb Business Interruptionoccasioned by or happening through or in consequence ofan Act of Terrorism within the Territorial LimitsProvided always that the insurance by this Sectiona is not subject to the General Exclusions of the GeneralCover Policyb is subject otherwise to all the terms and conditions ofthe General Cover Policy except where expressly variedwithin this Sectionc is subject to a maximum Period of lnsurance of 12months from the Effective Date or any subsequentRenewal Date of this PolicyAny subsequent period of cover of 12 months, or partthereof, provided by this Section is deemed toconstitute a separate Period of Insurance, provided thatino subsequent Period of lnsurance by this Sectionshall extend beyond the next Renewal Date of thisPolicyii the renewal premium due in respect of this Section\n",
      "------------------------------------------------------------------------------------------\n",
      "------------------------------------------------------------------------------------------\n",
      "------------------------------------------------------------------------------------------\n"
     ]
    }
   ],
   "source": [
    "# Type 1 wildcard query\n",
    "user_search(\"prot* *tion\", num_docs=1)"
   ]
  },
  {
   "cell_type": "code",
   "execution_count": 10,
   "metadata": {},
   "outputs": [
    {
     "name": "stdout",
     "output_type": "stream",
     "text": [
      "Documents Retrieved: 1\n",
      "------------------------------------------------------------------------------------------\n",
      "------------------------------------------------------------------------------------------\n",
      "Rank: 1\n",
      "Document Name: rsa_property_owners_policy_wording\n",
      "Page Number: 40\n",
      "Paragraph Number: 1\n",
      "Score: 24.821053129151498\n",
      "------------------------------------------------------------------------------------------\n",
      "------------------------------------------------------------------------------------------\n",
      "Paragraph Text: \n",
      "40 | Properties Policysection 5 Data protectionWhat is coveredWhat is not covered1 The defence of any Legal proceedings brought against You for compensation under Section 13 of the Data Protection Act 1998 provided that You are already registered with the Data Protection Commissioner2 An appeal by You againstA) the refusal of Your application for registration by the Data Protection CommissionerB) the refusal of an application for alteration of registered particulars by the Data Protection CommissionerC) an enforcement noticeD) a de-registration noticeE) a transfer prohibition noticeprovided that You agree to appoint our Administrator’s approved consultant as Your Appointed representative in accordance with Requirement 4 A) i) 1 Any amount in excess of the Limit of indemnity for Any one Claim shown in the schedule 2 Legal expenses arising from or relating toA) any criminal prosecutionB) any legal action concerning the grant and/or execution of a warrant of entryC) any claim where You do not appoint our Administrator’s approved consultant as the Appointed representative in accordance with Requirement 4 A) i)D) a matter which is more specifically covered by another Insurance section of this policy or would have been had it not been for an exclusion or proviso applying to that Insurance \n",
      "------------------------------------------------------------------------------------------\n",
      "------------------------------------------------------------------------------------------\n",
      "------------------------------------------------------------------------------------------\n"
     ]
    }
   ],
   "source": [
    "# Type 2 wildcard query\n",
    "user_search(\"pro*ion\", num_docs=1)"
   ]
  },
  {
   "cell_type": "code",
   "execution_count": 11,
   "metadata": {},
   "outputs": [
    {
     "name": "stdout",
     "output_type": "stream",
     "text": [
      "Documents Retrieved: 1\n",
      "------------------------------------------------------------------------------------------\n",
      "------------------------------------------------------------------------------------------\n",
      "Rank: 1\n",
      "Document Name: rsa_property_owners_policy_wording\n",
      "Page Number: 40\n",
      "Paragraph Number: 1\n",
      "Score: 24.821053129151498\n",
      "------------------------------------------------------------------------------------------\n",
      "------------------------------------------------------------------------------------------\n",
      "Paragraph Text: \n",
      "40 | Properties Policysection 5 Data protectionWhat is coveredWhat is not covered1 The defence of any Legal proceedings brought against You for compensation under Section 13 of the Data Protection Act 1998 provided that You are already registered with the Data Protection Commissioner2 An appeal by You againstA) the refusal of Your application for registration by the Data Protection CommissionerB) the refusal of an application for alteration of registered particulars by the Data Protection CommissionerC) an enforcement noticeD) a de-registration noticeE) a transfer prohibition noticeprovided that You agree to appoint our Administrator’s approved consultant as Your Appointed representative in accordance with Requirement 4 A) i) 1 Any amount in excess of the Limit of indemnity for Any one Claim shown in the schedule 2 Legal expenses arising from or relating toA) any criminal prosecutionB) any legal action concerning the grant and/or execution of a warrant of entryC) any claim where You do not appoint our Administrator’s approved consultant as the Appointed representative in accordance with Requirement 4 A) i)D) a matter which is more specifically covered by another Insurance section of this policy or would have been had it not been for an exclusion or proviso applying to that Insurance \n",
      "------------------------------------------------------------------------------------------\n",
      "------------------------------------------------------------------------------------------\n",
      "------------------------------------------------------------------------------------------\n"
     ]
    }
   ],
   "source": [
    "# Wildcard query with `AND`\n",
    "user_search(\"\\\"pro*ion\\\" officer\", num_docs=1)"
   ]
  },
  {
   "attachments": {},
   "cell_type": "markdown",
   "metadata": {},
   "source": [
    "**Note**: Phrase queries get converted from an `AND` to an `OR` query if wildcards are used"
   ]
  },
  {
   "cell_type": "code",
   "execution_count": 12,
   "metadata": {},
   "outputs": [
    {
     "name": "stdout",
     "output_type": "stream",
     "text": [
      "Documents Retrieved: 1\n",
      "------------------------------------------------------------------------------------------\n",
      "------------------------------------------------------------------------------------------\n",
      "Rank: 1\n",
      "Document Name: BRIT-PO-Policy-Wording-May-2016-1\n",
      "Page Number: 53\n",
      "Paragraph Number: 1\n",
      "Score: 24.821053129151498\n",
      "------------------------------------------------------------------------------------------\n",
      "------------------------------------------------------------------------------------------\n",
      "Paragraph Text: \n",
      " Page | 53 Further Information Data Protection Act 1998 In order to assess the terms of the insurance contract or administer claims that arise, We may need to collect data that the Data Protection Act defines as personal or sensitive. All data collected, including personal and sensitive data, will be kept secure at all times in accordance with the provisions of Data Protection Act 1998. We will also monitor and record Our communication with You for compliance and training purposes. Where You provide Us with personal or sensitive data relating to another person, You will be responsible for ensuring that the person to whom the data pertains is informed of Our identity and the purpose and processes for which their information is disclosed. Personal information will be stored electronically and used for administration, risk assessment, research and statistical purposes and for crime prevention. Personal information may be disclosed to a) Our members, our agents or service providers, b) other insurance entities interested in the risk written under this policy, c) credit reference and fraud databases; d) law enforcement agencies and statutory bodies. Where we provide cover to you under the Employers’ Liability (Compulsory Insurance) Regulations 1998, we are required by regulation to maintain a database and add details of all the companies and subsidiaries covered to the Employers’ Liability Tracing Office database. In certain circumstances, for example for systems administration purposes, We may have to transfer Your information to another country, which may be a country outside the European Economic Area (EEA). We will ensure that such transfers outside the European Economic Area comply with the data protection law and that the information is kept secure and protected from unauthorised access. If you knowingly provide us with false or inaccurate information and We suspect You of fraud, We will record our suspicions and make the information available on databases recording suspected fraudulent behaviour which other organisations will have access to. By proceeding with this contract You signify Your consent to such information being processed by Us or Our agents and that You are agreeable for Us to transfer Your information to a country outside the EEA. Should You wish to receive a copy of the information We hold on You, or wish to correct any inaccuracies in Your information or have any queries in relation to Your information , please contact: Data Protection Officer Brit Syndicate 2987 at Lloyd’s 55 Bishopsgate London EC2N 3AS Financial Services Compensation Scheme We are covered by the Financial Services Compensation Scheme (FSCS). You may be entitled to compensation from the scheme if We cannot meet Our obligations. This depends on the type of business and the circumstances of the claim. Further information about compensation scheme arrangements is available from the FSCS. Financial Services Compensation Scheme \n",
      "------------------------------------------------------------------------------------------\n",
      "------------------------------------------------------------------------------------------\n",
      "------------------------------------------------------------------------------------------\n"
     ]
    }
   ],
   "source": [
    "# Wildcard with phrase query\n",
    "user_search(\"\\\"pro*ion\\\" \\\"officer\\\"\", is_phrase=True, num_docs=1)"
   ]
  },
  {
   "attachments": {},
   "cell_type": "markdown",
   "metadata": {},
   "source": [
    "### 3.4: Spelling correction\n",
    "\n",
    "The engine first assumes that the spelling is correct. But if no documents are returned by the boolean filter, the engine finds the closest words to all non wildcard query words and returns the results of an `OR` query of all the closest words. Spell checking is turned off by default, but can be turned on by setting the `spell_check` parameter to `True` in the `search` function.\n",
    "\n",
    "Spell checking was implemented using `levenshtein` distance. In addition to the general `insert, delete and replace` operations, I've implemented a `swap` operation which is used to correct words like `inforamtion` to `information`, since this kind of spelling error is very common.\n",
    "\n",
    "Implementation of the above steps can be found in the `edit_distance_functions.py` file. (fully documented)"
   ]
  },
  {
   "cell_type": "code",
   "execution_count": 13,
   "metadata": {},
   "outputs": [
    {
     "name": "stdout",
     "output_type": "stream",
     "text": [
      "No documents found\n"
     ]
    }
   ],
   "source": [
    "# Without spell check\n",
    "user_search(\"\\\"prtoection\\\" officer\", num_docs=1)"
   ]
  },
  {
   "cell_type": "code",
   "execution_count": 14,
   "metadata": {},
   "outputs": [
    {
     "name": "stdout",
     "output_type": "stream",
     "text": [
      "No documents found with direct match with \"prtoection\" officer. Performing spell check...\n",
      "Corrected Query: protection officer\n",
      "Documents Retrieved: 1\n",
      "------------------------------------------------------------------------------------------\n",
      "------------------------------------------------------------------------------------------\n",
      "Rank: 1\n",
      "Document Name: complete-property-owner-policy-wording-policies-incepting-or-renewing-from-010418-acom686-11\n",
      "Page Number: 63\n",
      "Paragraph Number: 1\n",
      "Score: 21.654312876275398\n",
      "------------------------------------------------------------------------------------------\n",
      "------------------------------------------------------------------------------------------\n",
      "Paragraph Text: \n",
      "61Complete Property Owner Policy Wording9Know your rightsAny individual whose personal information we hold has theright to:• object to us processing it. We will either agree to stopprocessing or explain why we are unable to (the right toobject)• ask for a copy of their personal information we hold, subjectto certain exemptions (a data subject access request)• ask us to update or correct their personal information toensure its accuracy (the right of rectification)• ask us to delete their personal information from our recordsif it is no longer needed for the original purpose (the right tobe forgotten)• ask us to restrict the processing of their personal informationin certain circumstances (the right of restriction)• ask for a copy of their personal information, so it can be usedfor their own purposes (the right to data portability)• complain if they feel their personal information has beenmishandled. We encourage individuals to come to us in thefirst instance but they are entitled to complain directly to theInformation Commissioner’s Office (ICO) www.ico.org.uk• ask us, at any time, to stop processing their personalinformation, if the processing is based only on individualconsent (the right to withdraw consent) If you wish to exercise any of these rights please contact ourCustomer Satisfaction Manager:Address: Customer Satisfaction Manager, Allianz, 57 Ladymead,Guildford, Surrey, GU1 1DBEmail: acccsm@allianz.co.ukPhone: 01483 55243810 Allianz (UK) Group Data Protection Officer Contact details Allianz Insurance plc and Allianz Engineering Inspection ServicesLimited are companies within the Allianz Holdings Any queries about how we use personal information should beaddressed to our Data Protection Officer:Address: Data Protection Officer, Allianz, 57 Ladymead, Guildford,Surrey GU1 1DBEmail: dataprotectionofficer@allianz.co.ukPhone: 0330 102 18376Sharing personal informationWe may share personal information with:• other companies within the global Allianz Groupwww.allianz.com• credit reference, fraud prevention and other agencies thatcarry out certain activities on our behalf, for example, theMotor Insurance Database (MID), the Insurance Fraud Bureau(IFB) and marketing agencies if agreed• our approved suppliers to help deal with claims or provideour benefit services, for example, vehicle repairers, legaladvisors and loss adjusters• other insurers, third party underwriters, reinsurers, insuranceintermediaries, regulators, law enforcement and the FinancialOmbudsman Service (FOS); and other companies thatprovide services to us or you, for example, the EmployersLiability Tracing Office (ELTO) and the Claims andUnderwriting Exchange (CUE)• prospective buyers in the event that we wish to sell all or partof our business 7Transferring personal information outside the UKWe use servers located in the European Union (EU) to storepersonal information where it is protected by laws equivalent to\n",
      "------------------------------------------------------------------------------------------\n",
      "------------------------------------------------------------------------------------------\n",
      "------------------------------------------------------------------------------------------\n"
     ]
    }
   ],
   "source": [
    "# With spell check\n",
    "user_search(\"\\\"prtoection\\\" officer\", spell_check=True, num_docs=1)"
   ]
  },
  {
   "attachments": {},
   "cell_type": "markdown",
   "metadata": {},
   "source": [
    "### 3.5: Autocomplete suggestions\n",
    "\n",
    "To mimic the autocomplete feature of Google search, I've implemented a feature which returns the top 5 most frequent words in the documents which contain the query string. This is turned off by default, but can be turned on by setting the `autocomplete` parameter to `True` in the `search` function.\n",
    "\n",
    "It works by finding the words in the corpus with the least distance from the last word in the query string as well as their frequencies.\n",
    "\n",
    "The lemmatized words are 'un'lemmatized for human readabiltiy. This is achieved using the `lemminflect` package which goes hand in hand with the package I used for lemmatization (`spaCy`)."
   ]
  },
  {
   "cell_type": "code",
   "execution_count": 15,
   "metadata": {},
   "outputs": [
    {
     "name": "stdout",
     "output_type": "stream",
     "text": [
      "Possible Options:\n",
      "------------------------------------------------------------------------------------------\n",
      "1. protection offers\n",
      "2. protection offer\n",
      "3. protection offered\n",
      "4. protection offering\n",
      "5. protection offices\n",
      "6. protection office\n",
      "7. protection offsets\n",
      "8. protection offset\n",
      "9. protection off set\n",
      "10. protection off setted\n",
      "------------------------------------------------------------------------------------------\n"
     ]
    }
   ],
   "source": [
    "user_search(\"protection off\", autocomplete=True, n_auto_results=10)"
   ]
  },
  {
   "attachments": {},
   "cell_type": "markdown",
   "metadata": {
    "tags": []
   },
   "source": [
    "## Step 4: Ranking of documents\n",
    "\n",
    "### 4.1: Opting out of ranking\n",
    "\n",
    "As mentioned earlier, the ranking algorithm can be turned off if all that is required is a boolean filter. To turn off the ranking algorithm, set the `ranked` parameter to `False` in the `search` function.\n",
    "\n",
    "### 4.2: TF-IDF scores\n",
    "\n",
    "The ranking is done based on the TF-IDF scores of the query words in the documents. The TF-IDF scores are calculated using the `inverted_index` created in the previous step. The TF-IDF scores are calculated for each word in the query string and the final score of a document is the sum of the TF-IDF scores of all the words in the query string.\n",
    "\n",
    "it is calculated document at a time, and in the case of wildcard queries, the TF-IDF scores are calculated for each word in the document which matches the wildcard.\n",
    "\n",
    "Implementation of the above steps can be found in the `scoring_functions.py` file. (fully documented)"
   ]
  },
  {
   "attachments": {},
   "cell_type": "markdown",
   "metadata": {},
   "source": [
    "## Extra: Summarizing results\n",
    "\n",
    "Using a pre-trained `Bart` model, I've implemented a feature which summarizes the results of the query. The summary is returned as a string along with the results of the query. To turn on the summarization feature, set the `summarize` parameter to `True` in the `search` function.\n",
    "\n",
    "Summarization of results however takes a very long time to run and is dependent on the length of the results. So it is turned off by default."
   ]
  },
  {
   "cell_type": "code",
   "execution_count": 16,
   "metadata": {},
   "outputs": [
    {
     "name": "stdout",
     "output_type": "stream",
     "text": [
      "No documents found with direct match with \"prtoection\". Performing spell check...\n",
      "Corrected Query: protection\n",
      "Documents Retrieved: 1\n",
      "------------------------------------------------------------------------------------------\n",
      "------------------------------------------------------------------------------------------\n",
      "Rank: 1\n",
      "Document Name: Property-Owner-Policy-Wording\n",
      "Page Number: 36\n",
      "Paragraph Number: 1\n",
      "Score: 13.993896691013797\n",
      "------------------------------------------------------------------------------------------\n",
      "Summary:  The total amount payable including all costs andexpenses in respect of all claims occurring during anyone Period of Insurance, is limited to £100,000 . The Insurer will indemnify the Insured and at theInsured’s request any partner, director or Employee ofthe Insured against the sums which the Insurer or any director, partner or Employee become(s)legally liable to pay as compensation, under the Data Protection Act 1984 .\n",
      "------------------------------------------------------------------------------------------\n",
      "Paragraph Text: \n",
      "34 | Complete Property Owners Insurance6 Data ProtectionThe Insurer will indemnify the Insured and at theInsured’s request any partner, director or Employee ofthe Insured against the sums which the Insured or anydirector, partner or Employee of the Insured become(s)legally liable to pay as compensation, under Section(s)22 and/or 23 of the Data Protection Act 1984 asamended by the Data Protection Act 1998, for damageor distress caused in connection with the Businessduring the Period of Insurance provided that theInsured isia registered user in accordance with the terms of theActii not in business as a computer bureau The total amount payable including all costs andexpenses in respect of all claims occurring during anyone Period of Insurance, is limited to £100,000, underthis Extension The Insurer will not pay fora any Damage or distress caused by any deliberate actor omission by the Insured the result of which couldreasonably have been expected by the Insuredhaving regard to the nature and circumstances ofsuch act or omissionb any Damage or distress caused by any act of fraudor dishonestyc the costs and expenses of rectifying, rewriting orerasing datad liability arising from the recording, processing orprovision of data for reward or to determine thefinancial status of any person e the payment of fines or penalties 7 Defective Premises Act 1972The Insurer will indemnify the Insured in the terms ofthis Section against liability incurred by the Insuredunder Section 3 of the Defective Premises Act 1972 orSection 5 of the Defective Premises (Northern Ireland)Order 1975 in connection with premises or landdisposed of by the Insured Provided that this Extension does not covera the costs of rectifying any damage or defect in thepremises or land disposed ofb liability for which the Insured is entitled to indemnityunder any other insurance 8 Consumer Protection and Food Safety Acts – Legal Defence CostsThe Insurer will indemnify the Insured and if theInsured so request any partner, director or Employee ofthe Insured in the terms of this Section in respect oflegal costs and expenses incurred with the writtenconsent of the Insurer in connection with the defenceof any criminal proceedings or an appeal againstconviction arising from such proceedings brought inrespect of any offence undera Part 2 of the Consumer Protection Act 1987orb Section(s) 7, 8, 14, and/or 15 of the Food Safety Act 1990committed or alleged to have been committed duringthe Period of Insurance in connection with theBusiness c liability arising out of the presence of Asbestoscommitted or alleged to have been committedduring the Period of Insurance in connection withthe BusinessProvided that the Insurer shall have the conduct andcontrol of all the said proceedings and appeals The Insurer will not pay for a fines or penalties of any kindb proceedings or appeals in respect of any deliberateact or omissionc costs or expenses insured by any other policy 9 Court Attendance CompensationIf during the Period of Insurance any partner, director or\n",
      "------------------------------------------------------------------------------------------\n",
      "------------------------------------------------------------------------------------------\n",
      "------------------------------------------------------------------------------------------\n"
     ]
    }
   ],
   "source": [
    "user_search(\"\\\"prtoection\\\"\", summarize=True, num_docs=1, spell_check=True)"
   ]
  }
 ],
 "metadata": {
  "kernelspec": {
   "display_name": "info_retrieval",
   "language": "python",
   "name": "python3"
  },
  "language_info": {
   "codemirror_mode": {
    "name": "ipython",
    "version": 3
   },
   "file_extension": ".py",
   "mimetype": "text/x-python",
   "name": "python",
   "nbconvert_exporter": "python",
   "pygments_lexer": "ipython3",
   "version": "3.10.9"
  },
  "orig_nbformat": 4,
  "vscode": {
   "interpreter": {
    "hash": "658a82028ab00f880bc6bcdff014f37899cf9fd6fbfdda117e2e46094372bdf4"
   }
  }
 },
 "nbformat": 4,
 "nbformat_minor": 2
}
