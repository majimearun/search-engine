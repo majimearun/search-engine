{
 "cells": [
  {
   "cell_type": "code",
   "execution_count": 1,
   "metadata": {},
   "outputs": [],
   "source": [
    "from query_functions import search\n",
    "from setup import startup_engine"
   ]
  },
  {
   "cell_type": "code",
   "execution_count": 2,
   "metadata": {},
   "outputs": [],
   "source": [
    "inverted_list, perm_index, rev_perm_index, n_word_index, _, main_df = startup_engine()"
   ]
  },
  {
   "cell_type": "code",
   "execution_count": 3,
   "metadata": {},
   "outputs": [],
   "source": [
    "def user_search(query, ranked=True, is_phrase=False, summarize=False, num_docs=None):\n",
    "    \"\"\"Simpler function to call the search function without passing in the indexes\n",
    "    \"\"\"\n",
    "    return search(query, inverted_list, perm_index, rev_perm_index, n_word_index, main_df, ranked=ranked, is_phrase=is_phrase, show_summary=summarize, retrieve_n = num_docs)"
   ]
  },
  {
   "cell_type": "code",
   "execution_count": 9,
   "metadata": {},
   "outputs": [
    {
     "name": "stdout",
     "output_type": "stream",
     "text": [
      "Documents Retrieved: 1\n",
      "------------------------------------------------------------------------------------------\n",
      "------------------------------------------------------------------------------------------\n",
      "Rank: 1\n",
      "Document Name: 1215E.2\n",
      "Page Number: 8\n",
      "Paragraph Number: 1\n",
      "Score: 48.27661185766424\n",
      "------------------------------------------------------------------------------------------\n",
      "------------------------------------------------------------------------------------------\n",
      "Paragraph Text: \n",
      "Effective (2016-06-01) FSCO (1215E.2) © Queen's Printer for Ontario, 2016 (OAP 1) Owner’s Policy Page 1 Section 1 Introduction 1.1 This Policy is Part of a Contract This policy is part of a contract between you and us. The contract includes three documents:  a completed and signed Application for Automobile Insurance,  a Certificate of Automobile Insurance, and  this policy. Under the contract, we agree to provide you with the insurance that is summarized on your Certificate of Automobile Insurance, and for which you have agreed to pay a premium. You only have a particular coverage for a specific automobile if your Certificate of Automobile Insurance shows a premium for it or shows the coverage is provided at no cost. 1.2 Where You Are Covered This policy covers you and other insured persons for incidents occurring in Canada, the United States of America and any other jurisdiction designated in the Statutory Accident Benefits Schedule, and on a vessel travelling between ports of those countries. All of the dollar limits described in this policy are in Canadian funds. 1.3 Definitions Automobile In this policy, motorized snow vehicle is included in the definition of automobile. Regulations may include, or exclude, certain other types or classes of vehicles as automobiles. In this policy, there is a difference between a described automobile and the automobile. When we refer to an automobile as described, we mean any automobile specifically shown on the Certificate of Automobile Insurance. \n",
      "------------------------------------------------------------------------------------------\n",
      "------------------------------------------------------------------------------------------\n",
      "------------------------------------------------------------------------------------------\n"
     ]
    }
   ],
   "source": [
    "user_search(\"automobile insurance policy\", is_phrase=True, num_docs=1)"
   ]
  },
  {
   "cell_type": "code",
   "execution_count": 5,
   "metadata": {},
   "outputs": [
    {
     "data": {
      "text/plain": [
       "906"
      ]
     },
     "execution_count": 5,
     "metadata": {},
     "output_type": "execute_result"
    }
   ],
   "source": [
    "len(main_df)"
   ]
  },
  {
   "cell_type": "code",
   "execution_count": null,
   "metadata": {},
   "outputs": [],
   "source": []
  }
 ],
 "metadata": {
  "kernelspec": {
   "display_name": "info_retrieval",
   "language": "python",
   "name": "python3"
  },
  "language_info": {
   "codemirror_mode": {
    "name": "ipython",
    "version": 3
   },
   "file_extension": ".py",
   "mimetype": "text/x-python",
   "name": "python",
   "nbconvert_exporter": "python",
   "pygments_lexer": "ipython3",
   "version": "3.10.9"
  },
  "orig_nbformat": 4,
  "vscode": {
   "interpreter": {
    "hash": "658a82028ab00f880bc6bcdff014f37899cf9fd6fbfdda117e2e46094372bdf4"
   }
  }
 },
 "nbformat": 4,
 "nbformat_minor": 2
}
