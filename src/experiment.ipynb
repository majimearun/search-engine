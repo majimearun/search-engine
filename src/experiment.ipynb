{
 "cells": [
  {
   "cell_type": "code",
   "execution_count": 1,
   "metadata": {},
   "outputs": [],
   "source": [
    "from query_functions import search\n",
    "from setup import startup_engine"
   ]
  },
  {
   "cell_type": "code",
   "execution_count": 2,
   "metadata": {},
   "outputs": [],
   "source": [
    "inverted_list, perm_index, rev_perm_index, n_word_index, _, main_df = startup_engine()"
   ]
  },
  {
   "cell_type": "code",
   "execution_count": 3,
   "metadata": {},
   "outputs": [],
   "source": [
    "def user_search(query, ranked=True, is_phrase=False, summarize=False, num_docs=None):\n",
    "    \"\"\"Simpler function to call the search function without passing in the indexes\n",
    "    \"\"\"\n",
    "    return search(query, inverted_list, perm_index, rev_perm_index, n_word_index, main_df, ranked=ranked, is_phrase=is_phrase, show_summary=summarize, retrieve_n = num_docs)"
   ]
  },
  {
   "cell_type": "code",
   "execution_count": 4,
   "metadata": {},
   "outputs": [
    {
     "name": "stdout",
     "output_type": "stream",
     "text": [
      "Documents Retrieved: 5\n",
      "------------------------------------------------------------------------------------------\n",
      "------------------------------------------------------------------------------------------\n",
      "Rank: 1\n",
      "Document Name: complete-property-owner-policy-wording-policies-incepting-or-renewing-from-010418-acom686-11\n",
      "Page Number: 64\n",
      "Paragraph Number: 2\n",
      "Score: 186.84986990713892\n",
      "------------------------------------------------------------------------------------------\n",
      "------------------------------------------------------------------------------------------\n",
      "Paragraph Text: \n",
      "The Database and the data stored on it may be accessed and used bythe Claimants, their appointed representatives, insurers withpotential liability for UK commercial lines employers’ liabilityinsurance cover and any other persons or entities permitted by law. The Database will be managed by the ELTO and further informationcan be found on the ELTO website www.elto.org.ukChanges to our Fair Processing NoticeOccasionally it may be necessary to make changes to this fairprocessing notice. When that happens we will provide an updatedversion at the earliest opportunity. The most recent version willalways be available on our website www.allianz.co.ukConsent for Special Categories of Personal DataThe global Allianz Group may need to collect and process datarelating to individuals who may benefit from the policy (“InsuredPersons”), which falls within the special categories of personal dataunder Data Protection Legislation, for example, medical history orconvictions of Insured Persons for the purpose of evaluating the risk\n",
      "------------------------------------------------------------------------------------------\n",
      "------------------------------------------------------------------------------------------\n",
      "------------------------------------------------------------------------------------------\n",
      "Rank: 2\n",
      "Document Name: BRIT-PO-Policy-Wording-May-2016-1\n",
      "Page Number: 53\n",
      "Paragraph Number: 1\n",
      "Score: 186.54171093703735\n",
      "------------------------------------------------------------------------------------------\n",
      "------------------------------------------------------------------------------------------\n",
      "Paragraph Text: \n",
      " Page | 53     Further Information Data Protection Act 1998 In order to assess the terms of the insurance contract or administer claims that arise, We may need to collect data that the Data Protection Act defines as personal or sensitive. All data collected, including personal and sensitive data, will be kept secure at all times in accordance with the provisions of Data Protection Act 1998. We will also monitor and record Our communication with You for compliance and training purposes.    Where You provide Us with personal or sensitive data relating to another person, You will be responsible for ensuring that the person to whom the data pertains is informed of Our identity and the purpose and processes for which their information is disclosed.     Personal information will be stored electronically and used for administration, risk assessment, research and statistical purposes and for crime prevention. Personal information may be disclosed to  a) Our members, our agents or service providers,  \n",
      "------------------------------------------------------------------------------------------\n",
      "------------------------------------------------------------------------------------------\n",
      "------------------------------------------------------------------------------------------\n",
      "Rank: 3\n",
      "Document Name: complete-property-owner-policy-wording-policies-incepting-or-renewing-from-010418-acom686-11\n",
      "Page Number: 63\n",
      "Paragraph Number: 2\n",
      "Score: 183.98743005254448\n",
      "------------------------------------------------------------------------------------------\n",
      "------------------------------------------------------------------------------------------\n",
      "Paragraph Text: \n",
      "Information Commissioner’s Office (ICO) www.ico.org.uk•     ask us, at any time, to stop processing their personalinformation, if the processing is based only on individualconsent (the right to withdraw consent) If you wish to exercise any of these rights please contact ourCustomer Satisfaction Manager:Address:  Customer Satisfaction Manager, Allianz, 57 Ladymead,Guildford, Surrey, GU1 1DBEmail:       acccsm@allianz.co.ukPhone:     01483 55243810 Allianz (UK) Group Data Protection Officer Contact details Allianz Insurance plc and Allianz Engineering Inspection ServicesLimited are companies within the Allianz Holdings Any queries about how we use personal information should beaddressed to our Data Protection Officer:Address:  Data Protection Officer, Allianz, 57 Ladymead, Guildford,Surrey GU1 1DBEmail:      dataprotectionofficer@allianz.co.ukPhone:     0330 102 18376Sharing personal informationWe may share personal information with:•     other companies within the global Allianz Groupwww.allianz.com\n",
      "------------------------------------------------------------------------------------------\n",
      "------------------------------------------------------------------------------------------\n",
      "------------------------------------------------------------------------------------------\n",
      "Rank: 4\n",
      "Document Name: eSols Property Owners Commercial Policy Wording 2018 Policies which incepted before 01 July\n",
      "Page Number: 25\n",
      "Paragraph Number: 3\n",
      "Score: 183.15378619564842\n",
      "------------------------------------------------------------------------------------------\n",
      "------------------------------------------------------------------------------------------\n",
      "Paragraph Text: \n",
      "organisations for the benefit of any Employee. (4) Your first aid, fire, security and ambulance services. (5) Your participation in exhibitions. (6) private work by any Employee, with Your prior consent, for You or for any director, partner or Employee. (4) Data Protection Act 1998 We will indemnify The Insured in respect of: (1) legal fees and defence costs (2) legal liability for Compensation to an individual (a) the subject of personal data The Insured holds and (b) who suffers damage or distress caused by (i) inaccuracy of data (ii) loss of the data (iii) unauthorised destruction or disclosure of the data (iv) unauthorised access to the data arising from proceedings brought against The Insured under Section 13 of the Data Protection Act 1998. The maximum We will pay for all claims happening during any one Period of Insurance is £1,000,000. We will not provide indemnity in respect of any agreement for or including the performance of work outside The Defined Territories.    (14) any liability of whatsoever nature arising out of mining, \n",
      "------------------------------------------------------------------------------------------\n",
      "------------------------------------------------------------------------------------------\n",
      "------------------------------------------------------------------------------------------\n",
      "Rank: 5\n",
      "Document Name: rsa_property_owners_policy_wording\n",
      "Page Number: 40\n",
      "Paragraph Number: 1\n",
      "Score: 182.8777064238\n",
      "------------------------------------------------------------------------------------------\n",
      "------------------------------------------------------------------------------------------\n",
      "Paragraph Text: \n",
      "40 | Properties Policysection 5 Data protectionWhat\tis\tcoveredWhat\tis\tnot\tcovered1  The defence of any Legal proceedings brought against You for compensation under Section 13 of the Data Protection Act 1998 provided that You are already registered with the Data Protection Commissioner2 An appeal by You againstA) the refusal of Your application for registration by the Data Protection CommissionerB) the refusal of an application for alteration of registered particulars by the Data Protection CommissionerC) an enforcement noticeD) a de-registration noticeE) a transfer prohibition noticeprovided that You agree to appoint our Administrator’s approved consultant as Your Appointed representative in accordance with Requirement 4 A) i) 1  Any amount in excess of the Limit of indemnity for Any one Claim shown in the schedule 2 Legal expenses arising from or relating toA) any criminal prosecutionB) any legal action concerning the grant and/or execution of a warrant of entryC) any claim where You do not appoint our Administrator’s \n",
      "------------------------------------------------------------------------------------------\n",
      "------------------------------------------------------------------------------------------\n",
      "------------------------------------------------------------------------------------------\n"
     ]
    }
   ],
   "source": [
    "user_search(\"dat* protec*ion officer\", is_phrase=True, num_docs=5)"
   ]
  },
  {
   "cell_type": "code",
   "execution_count": null,
   "metadata": {},
   "outputs": [],
   "source": []
  }
 ],
 "metadata": {
  "kernelspec": {
   "display_name": "info_retrieval",
   "language": "python",
   "name": "python3"
  },
  "language_info": {
   "codemirror_mode": {
    "name": "ipython",
    "version": 3
   },
   "file_extension": ".py",
   "mimetype": "text/x-python",
   "name": "python",
   "nbconvert_exporter": "python",
   "pygments_lexer": "ipython3",
   "version": "3.10.9"
  },
  "orig_nbformat": 4,
  "vscode": {
   "interpreter": {
    "hash": "658a82028ab00f880bc6bcdff014f37899cf9fd6fbfdda117e2e46094372bdf4"
   }
  }
 },
 "nbformat": 4,
 "nbformat_minor": 2
}
