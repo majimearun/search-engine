{
 "cells": [
  {
   "cell_type": "code",
   "execution_count": 2,
   "metadata": {},
   "outputs": [],
   "source": [
    "from query_functions import search\n",
    "from setup import startup_engine"
   ]
  },
  {
   "cell_type": "code",
   "execution_count": 3,
   "metadata": {},
   "outputs": [],
   "source": [
    "inverted_list, perm_index, rev_perm_index, n_word_index, _, main_df = startup_engine()"
   ]
  },
  {
   "cell_type": "code",
   "execution_count": 4,
   "metadata": {},
   "outputs": [],
   "source": [
    "def user_search(query, ranked=True, is_phrase=False, summarize=False, num_docs=None, spell_check=False, autocomplete=False, n_auto_results=5):\n",
    "    \"\"\"Simpler function to call the engine's search function without passing in the indexes\n",
    "    \"\"\"\n",
    "    return search(query, inverted_list, perm_index, rev_perm_index, n_word_index, main_df, ranked=ranked, is_phrase=is_phrase, show_summary=summarize, retrieve_n = num_docs, spell_check=spell_check, autocomplete=autocomplete, n_auto_results=n_auto_results)"
   ]
  },
  {
   "cell_type": "code",
   "execution_count": 5,
   "metadata": {},
   "outputs": [
    {
     "name": "stdout",
     "output_type": "stream",
     "text": [
      "Possible Options:\n",
      "------------------------------------------------------------------------------------------\n",
      "1. data laws\n",
      "2. data law\n",
      "3. data lay\n",
      "4. data lays\n",
      "5. data laid\n",
      "6. data laying\n",
      "7. data lack\n",
      "8. data lacked\n",
      "9. data lacking\n",
      "10. data lacks\n",
      "------------------------------------------------------------------------------------------\n"
     ]
    }
   ],
   "source": [
    "user_search(\"data la\", autocomplete=True, n_auto_results=10)"
   ]
  },
  {
   "cell_type": "code",
   "execution_count": null,
   "metadata": {},
   "outputs": [],
   "source": []
  }
 ],
 "metadata": {
  "kernelspec": {
   "display_name": "info_retrieval",
   "language": "python",
   "name": "python3"
  },
  "language_info": {
   "codemirror_mode": {
    "name": "ipython",
    "version": 3
   },
   "file_extension": ".py",
   "mimetype": "text/x-python",
   "name": "python",
   "nbconvert_exporter": "python",
   "pygments_lexer": "ipython3",
   "version": "3.10.9"
  },
  "orig_nbformat": 4,
  "vscode": {
   "interpreter": {
    "hash": "658a82028ab00f880bc6bcdff014f37899cf9fd6fbfdda117e2e46094372bdf4"
   }
  }
 },
 "nbformat": 4,
 "nbformat_minor": 2
}
