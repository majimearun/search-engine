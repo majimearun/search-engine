{
 "cells": [
  {
   "cell_type": "code",
   "execution_count": 1,
   "metadata": {},
   "outputs": [],
   "source": [
    "from query_functions import search\n",
    "from setup import startup_engine\n",
    "import os"
   ]
  },
  {
   "cell_type": "code",
   "execution_count": 2,
   "metadata": {},
   "outputs": [],
   "source": [
    "# paths for our data (going one dorectory above)\n",
    "workdir = os.getcwd()\n",
    "parent_path = os.path.dirname(workdir)\n",
    "csv_path = parent_path + \"/data/tokenized/\"\n",
    "import glob \n",
    "csvs = glob.glob(csv_path + \"*.csv\")"
   ]
  },
  {
   "cell_type": "code",
   "execution_count": 3,
   "metadata": {},
   "outputs": [],
   "source": [
    "inverted_list, perm_index, rev_perm_index, n_word_index, _, main_df = startup_engine(*csvs)"
   ]
  },
  {
   "cell_type": "code",
   "execution_count": 4,
   "metadata": {},
   "outputs": [],
   "source": [
    "def user_search(query, ranked=True, is_phrase=False, summarize=False, num_docs=None, spell_check=False, autocomplete=False, n_auto_results=5):\n",
    "    \"\"\"Simpler function to call the engine's search function without passing in the indexes\n",
    "    \"\"\"\n",
    "    return search(query, inverted_list, perm_index, rev_perm_index, n_word_index, main_df, ranked=ranked, is_phrase=is_phrase, show_summary=summarize, retrieve_n = num_docs, spell_check=spell_check, autocomplete=autocomplete, n_auto_results=n_auto_results)"
   ]
  },
  {
   "cell_type": "code",
   "execution_count": 5,
   "metadata": {},
   "outputs": [
    {
     "name": "stdout",
     "output_type": "stream",
     "text": [
      "No documents found with direct match with data \"prtoection\". Performing spell check...\n",
      "Corrected Query: data protection\n",
      "Documents Retrieved: 1\n",
      "------------------------------------------------------------------------------------------\n",
      "------------------------------------------------------------------------------------------\n",
      "Rank: 1\n",
      "Document Name: BRIT-PO-Policy-Wording-May-2016-1\n",
      "Page Number: 53\n",
      "Paragraph Number: 1\n",
      "Score: 27.987793382027593\n",
      "------------------------------------------------------------------------------------------\n",
      "------------------------------------------------------------------------------------------\n",
      "Paragraph Text: \n",
      " Page | 53 Further Information Data Protection Act 1998 In order to assess the terms of the insurance contract or administer claims that arise, We may need to collect data that the Data Protection Act defines as personal or sensitive. All data collected, including personal and sensitive data, will be kept secure at all times in accordance with the provisions of Data Protection Act 1998. We will also monitor and record Our communication with You for compliance and training purposes. Where You provide Us with personal or sensitive data relating to another person, You will be responsible for ensuring that the person to whom the data pertains is informed of Our identity and the purpose and processes for which their information is disclosed. Personal information will be stored electronically and used for administration, risk assessment, research and statistical purposes and for crime prevention. Personal information may be disclosed to a) Our members, our agents or service providers, b) other insurance entities interested in the risk written under this policy, c) credit reference and fraud databases; d) law enforcement agencies and statutory bodies. Where we provide cover to you under the Employers’ Liability (Compulsory Insurance) Regulations 1998, we are required by regulation to maintain a database and add details of all the companies and subsidiaries covered to the Employers’ Liability Tracing Office database. In certain circumstances, for example for systems administration purposes, We may have to transfer Your information to another country, which may be a country outside the European Economic Area (EEA). We will ensure that such transfers outside the European Economic Area comply with the data protection law and that the information is kept secure and protected from unauthorised access. If you knowingly provide us with false or inaccurate information and We suspect You of fraud, We will record our suspicions and make the information available on databases recording suspected fraudulent behaviour which other organisations will have access to. By proceeding with this contract You signify Your consent to such information being processed by Us or Our agents and that You are agreeable for Us to transfer Your information to a country outside the EEA. Should You wish to receive a copy of the information We hold on You, or wish to correct any inaccuracies in Your information or have any queries in relation to Your information , please contact: Data Protection Officer Brit Syndicate 2987 at Lloyd’s 55 Bishopsgate London EC2N 3AS Financial Services Compensation Scheme We are covered by the Financial Services Compensation Scheme (FSCS). You may be entitled to compensation from the scheme if We cannot meet Our obligations. This depends on the type of business and the circumstances of the claim. Further information about compensation scheme arrangements is available from the FSCS. Financial Services Compensation Scheme \n",
      "------------------------------------------------------------------------------------------\n",
      "------------------------------------------------------------------------------------------\n",
      "------------------------------------------------------------------------------------------\n"
     ]
    }
   ],
   "source": [
    "user_search(\"data \\\"prtoection\\\"\", spell_check=True, num_docs=1)    "
   ]
  },
  {
   "cell_type": "code",
   "execution_count": null,
   "metadata": {},
   "outputs": [],
   "source": []
  }
 ],
 "metadata": {
  "kernelspec": {
   "display_name": "info_retrieval",
   "language": "python",
   "name": "python3"
  },
  "language_info": {
   "codemirror_mode": {
    "name": "ipython",
    "version": 3
   },
   "file_extension": ".py",
   "mimetype": "text/x-python",
   "name": "python",
   "nbconvert_exporter": "python",
   "pygments_lexer": "ipython3",
   "version": "3.10.9"
  },
  "orig_nbformat": 4,
  "vscode": {
   "interpreter": {
    "hash": "658a82028ab00f880bc6bcdff014f37899cf9fd6fbfdda117e2e46094372bdf4"
   }
  }
 },
 "nbformat": 4,
 "nbformat_minor": 2
}
