{
 "cells": [
  {
   "cell_type": "code",
   "execution_count": 1,
   "metadata": {},
   "outputs": [],
   "source": [
    "from query_functions import search\n",
    "from setup import startup_engine"
   ]
  },
  {
   "cell_type": "code",
   "execution_count": 2,
   "metadata": {},
   "outputs": [],
   "source": [
    "inverted_list, perm_index, rev_perm_index, n_word_index, _, main_df = startup_engine()"
   ]
  },
  {
   "cell_type": "code",
   "execution_count": 3,
   "metadata": {},
   "outputs": [],
   "source": [
    "def user_search(query, ranked=True, is_phrase=False, summarize=False, num_docs=None, spell_check=False):\n",
    "    \"\"\"Simpler function to call the search function without passing in the indexes\n",
    "    \"\"\"\n",
    "    return search(query, inverted_list, perm_index, rev_perm_index, n_word_index, main_df, ranked=ranked, is_phrase=is_phrase, show_summary=summarize, retrieve_n = num_docs, spell_check=spell_check)"
   ]
  },
  {
   "cell_type": "code",
   "execution_count": 4,
   "metadata": {},
   "outputs": [
    {
     "name": "stdout",
     "output_type": "stream",
     "text": [
      "No documents found with direct match with dat* prtoection officer. Performing spell check...\n",
      "Corrected Query: dat* protection officer\n",
      "Documents Retrieved: 5\n",
      "------------------------------------------------------------------------------------------\n",
      "------------------------------------------------------------------------------------------\n",
      "Rank: 1\n",
      "Document Name: complete-property-owner-policy-wording-policies-incepting-or-renewing-from-010418-acom686-11\n",
      "Page Number: 63\n",
      "Paragraph Number: 1\n",
      "Score: 21.654312876275398\n",
      "------------------------------------------------------------------------------------------\n",
      "------------------------------------------------------------------------------------------\n",
      "Paragraph Text: \n",
      "61Complete Property Owner Policy Wording9Know your rightsAny individual whose personal information we hold has theright to:• object to us processing it. We will either agree to stopprocessing or explain why we are unable to (the right toobject)• ask for a copy of their personal information we hold, subjectto certain exemptions (a data subject access request)• ask us to update or correct their personal information toensure its accuracy (the right of rectification)• ask us to delete their personal information from our recordsif it is no longer needed for the original purpose (the right tobe forgotten)• ask us to restrict the processing of their personal informationin certain circumstances (the right of restriction)• ask for a copy of their personal information, so it can be usedfor their own purposes (the right to data portability)• complain if they feel their personal information has beenmishandled. We encourage individuals to come to us in thefirst instance but they are entitled to complain directly to theInformation Commissioner’s Office (ICO) www.ico.org.uk• ask us, at any time, to stop processing their personalinformation, if the processing is based only on individualconsent (the right to withdraw consent) If you wish to exercise any of these rights please contact ourCustomer Satisfaction Manager:Address: Customer Satisfaction Manager, Allianz, 57 Ladymead,Guildford, Surrey, GU1 1DBEmail: acccsm@allianz.co.ukPhone: 01483 55243810 Allianz (UK) Group Data Protection Officer Contact details Allianz Insurance plc and Allianz Engineering Inspection ServicesLimited are companies within the Allianz Holdings Any queries about how we use personal information should beaddressed to our Data Protection Officer:Address: Data Protection Officer, Allianz, 57 Ladymead, Guildford,Surrey GU1 1DBEmail: dataprotectionofficer@allianz.co.ukPhone: 0330 102 18376Sharing personal informationWe may share personal information with:• other companies within the global Allianz Groupwww.allianz.com• credit reference, fraud prevention and other agencies thatcarry out certain activities on our behalf, for example, theMotor Insurance Database (MID), the Insurance Fraud Bureau(IFB) and marketing agencies if agreed• our approved suppliers to help deal with claims or provideour benefit services, for example, vehicle repairers, legaladvisors and loss adjusters• other insurers, third party underwriters, reinsurers, insuranceintermediaries, regulators, law enforcement and the FinancialOmbudsman Service (FOS); and other companies thatprovide services to us or you, for example, the EmployersLiability Tracing Office (ELTO) and the Claims andUnderwriting Exchange (CUE)• prospective buyers in the event that we wish to sell all or partof our business 7Transferring personal information outside the UKWe use servers located in the European Union (EU) to storepersonal information where it is protected by laws equivalent to\n",
      "------------------------------------------------------------------------------------------\n",
      "------------------------------------------------------------------------------------------\n",
      "------------------------------------------------------------------------------------------\n",
      "Rank: 2\n",
      "Document Name: BRIT-PO-Policy-Wording-May-2016-1\n",
      "Page Number: 53\n",
      "Paragraph Number: 1\n",
      "Score: 19.407474910082648\n",
      "------------------------------------------------------------------------------------------\n",
      "------------------------------------------------------------------------------------------\n",
      "Paragraph Text: \n",
      " Page | 53 Further Information Data Protection Act 1998 In order to assess the terms of the insurance contract or administer claims that arise, We may need to collect data that the Data Protection Act defines as personal or sensitive. All data collected, including personal and sensitive data, will be kept secure at all times in accordance with the provisions of Data Protection Act 1998. We will also monitor and record Our communication with You for compliance and training purposes. Where You provide Us with personal or sensitive data relating to another person, You will be responsible for ensuring that the person to whom the data pertains is informed of Our identity and the purpose and processes for which their information is disclosed. Personal information will be stored electronically and used for administration, risk assessment, research and statistical purposes and for crime prevention. Personal information may be disclosed to a) Our members, our agents or service providers, b) other insurance entities interested in the risk written under this policy, c) credit reference and fraud databases; d) law enforcement agencies and statutory bodies. Where we provide cover to you under the Employers’ Liability (Compulsory Insurance) Regulations 1998, we are required by regulation to maintain a database and add details of all the companies and subsidiaries covered to the Employers’ Liability Tracing Office database. In certain circumstances, for example for systems administration purposes, We may have to transfer Your information to another country, which may be a country outside the European Economic Area (EEA). We will ensure that such transfers outside the European Economic Area comply with the data protection law and that the information is kept secure and protected from unauthorised access. If you knowingly provide us with false or inaccurate information and We suspect You of fraud, We will record our suspicions and make the information available on databases recording suspected fraudulent behaviour which other organisations will have access to. By proceeding with this contract You signify Your consent to such information being processed by Us or Our agents and that You are agreeable for Us to transfer Your information to a country outside the EEA. Should You wish to receive a copy of the information We hold on You, or wish to correct any inaccuracies in Your information or have any queries in relation to Your information , please contact: Data Protection Officer Brit Syndicate 2987 at Lloyd’s 55 Bishopsgate London EC2N 3AS Financial Services Compensation Scheme We are covered by the Financial Services Compensation Scheme (FSCS). You may be entitled to compensation from the scheme if We cannot meet Our obligations. This depends on the type of business and the circumstances of the claim. Further information about compensation scheme arrangements is available from the FSCS. Financial Services Compensation Scheme \n",
      "------------------------------------------------------------------------------------------\n",
      "------------------------------------------------------------------------------------------\n",
      "------------------------------------------------------------------------------------------\n",
      "Rank: 3\n",
      "Document Name: Property-Owner-Policy-Wording\n",
      "Page Number: 70\n",
      "Paragraph Number: 1\n",
      "Score: 17.160636943889898\n",
      "------------------------------------------------------------------------------------------\n",
      "------------------------------------------------------------------------------------------\n",
      "Paragraph Text: \n",
      "68 | Complete Property Owners InsuranceTelephone calls may be recorded for our mutualprotection, training and monitoring purposes Allianz Insurance plc together with other companieswithin the Allianz SE group of companies (Allianz Group)may use the personal and business details you have givenor which are supplied by third parties including any detailsof directors, officers, partners and employees to provideyou with a quotation; deal with your policy; to searchcredit reference and fraud agencies who may keep arecord of the search; to share with other insuranceorganisations to help offset risks, to help administer yourpolicy and to handle claims and prevent fraud; to supportthe development of our business by including your detailsin customer surveys, and for market research andcompliance business reviews which may be carried out bythird parties acting on behalf of Allianz Group. You agreedwhen you applied for the policy that your directors,officers, partners, and employees have consented toAllianz Group using their details in this way Allianz Group may need to collect data relating to InsuredPersons, which under the Data Protection Act is defined assensitive (such as medical history and conviction details ofthe Insured Persons) for the purpose of evaluating the riskor administering claims which may occur. You mustensure that you have explicit verbal or written consentfrom the insured persons to such information beingprocessed by Allianz Group and that this fact is madeknown to the insured persons If your policy provides Employers' Liability coverinformation relating to your insurance policy will beprovided to the Employers' Liability Tracing Office (the“ELTO”) and added to an electronic database, (the“Database”) in a format set out by the Employers' LiabilityInsurance: Disclosure by Insurers Instrument 2010 The Database assists individual consumer claimants whohave suffered an employment related injury or diseasearising out of their course of employment in the UK foremployers carrying on, or who carried on, business in theUK and who are covered by the employers’ liabilityinsurance of their employers, (the “Claimants”):•to identify which insurer (or insurers) was (or were)providing employers’ liability cover during the relevantperiods of employment; and•to identify the relevant employers’ liability insurancepolicies The Database and the data stored on it may be accessedand used by the Claimants, their appointedrepresentatives, insurers with potential liability for UKcommercial lines employers’ liability insurance cover andany other persons or entities permitted by law. TheDatabase will be managed by the ELTO and furtherinformation can be found on the ELTO websitewww.elto.org.uk. By entering into this insurance policy youwill be deemed to specifically consent to the use of yourinsurance policy data in this way and for these purposes Allianz will share your information with Barclays Group forthe purpose of managing policy(ies), to assess theconditions of the insurance contract, to deal with claims,\n",
      "------------------------------------------------------------------------------------------\n",
      "------------------------------------------------------------------------------------------\n",
      "------------------------------------------------------------------------------------------\n",
      "Rank: 4\n",
      "Document Name: rsa_property_owners_policy_wording\n",
      "Page Number: 61\n",
      "Paragraph Number: 1\n",
      "Score: 16.24073465720655\n",
      "------------------------------------------------------------------------------------------\n",
      "------------------------------------------------------------------------------------------\n",
      "Paragraph Text: \n",
      "61 | Properties Policy How We Use Your informationPlease read the following carefully as it contains important information relating to the details that You have given Us. You should show this notice to any other party related to this insurance Who We areProperties is underwritten by Royal & Sun Alliance Insurance plc You are giving Your information to Royal & Sun Alliance Insurance plc, which is a member of the RSA Group of companies (the Group). In this information statement ‘We’ ‘Us’ and ‘our’ refers to the Group unless otherwise stated How Your information will be used and who We share it withYour information comprises of all the details We hold about You and Your transactions and includes information obtained from third parties If You contact Us electronically, We may collect Your electronic information identifier e.g. Internet Protocol (IP) address or telephone number supplied by Your service provider We may use and share Your information with other members of the Group to help Us and them• Assess financial and insurance risks• Recover debt• Prevent and detect crime• Develop our services, systems and relationships with You• Understand our customers’ requirements• Develop and test products and services We do not disclose Your information to anyone outside the Group except• Where We have Your permission, or• Where We are required or permitted to do so by law, or• To credit reference and fraud prevention agencies and other companies that provide a service to Us, our partners or You, or• Where We may transfer rights and obligations under this agreement We may transfer Your information to other countries on the basis that anyone We pass it to provides an adequate level of protection. In such cases the Group will ensure it is kept securely and used only for the purpose for which You provided it. Details of the companies and countries involved can be provided on request From time to time We may change the way We use Your information. Where We believe You may not reasonably expect such a change We shall write to You. If You do not object, You will consent to that change We will not keep Your information for longer than is necessary Sensitive InformationSome of the information We ask You for may be sensitive personal data, as defined by the Data Protection Act 1998 (such as information about health or criminal convictions). We will not use such sensitive personal data about You or others except for the specific purpose for which You provide it and to carry out the services described in Your policy documents. Please ensure that You only provide Us with sensitive information about other people with their agreement How to contact UsOn payment of a small fee You are entitled to receive a copy of the information We hold about You. If You have any questions or You would like to find out more about this notice You can write toData Protection Liaison Officer Customer Relations Office RSA Bowling Mill Dean Clough Industrial Estate Halifax HX3 5WA\n",
      "------------------------------------------------------------------------------------------\n",
      "------------------------------------------------------------------------------------------\n",
      "------------------------------------------------------------------------------------------\n",
      "Rank: 5\n",
      "Document Name: Property-Owner-Policy-Wording\n",
      "Page Number: 36\n",
      "Paragraph Number: 1\n",
      "Score: 13.993896691013797\n",
      "------------------------------------------------------------------------------------------\n",
      "------------------------------------------------------------------------------------------\n",
      "Paragraph Text: \n",
      "34 | Complete Property Owners Insurance6 Data ProtectionThe Insurer will indemnify the Insured and at theInsured’s request any partner, director or Employee ofthe Insured against the sums which the Insured or anydirector, partner or Employee of the Insured become(s)legally liable to pay as compensation, under Section(s)22 and/or 23 of the Data Protection Act 1984 asamended by the Data Protection Act 1998, for damageor distress caused in connection with the Businessduring the Period of Insurance provided that theInsured isia registered user in accordance with the terms of theActii not in business as a computer bureau The total amount payable including all costs andexpenses in respect of all claims occurring during anyone Period of Insurance, is limited to £100,000, underthis Extension The Insurer will not pay fora any Damage or distress caused by any deliberate actor omission by the Insured the result of which couldreasonably have been expected by the Insuredhaving regard to the nature and circumstances ofsuch act or omissionb any Damage or distress caused by any act of fraudor dishonestyc the costs and expenses of rectifying, rewriting orerasing datad liability arising from the recording, processing orprovision of data for reward or to determine thefinancial status of any person e the payment of fines or penalties 7 Defective Premises Act 1972The Insurer will indemnify the Insured in the terms ofthis Section against liability incurred by the Insuredunder Section 3 of the Defective Premises Act 1972 orSection 5 of the Defective Premises (Northern Ireland)Order 1975 in connection with premises or landdisposed of by the Insured Provided that this Extension does not covera the costs of rectifying any damage or defect in thepremises or land disposed ofb liability for which the Insured is entitled to indemnityunder any other insurance 8 Consumer Protection and Food Safety Acts – Legal Defence CostsThe Insurer will indemnify the Insured and if theInsured so request any partner, director or Employee ofthe Insured in the terms of this Section in respect oflegal costs and expenses incurred with the writtenconsent of the Insurer in connection with the defenceof any criminal proceedings or an appeal againstconviction arising from such proceedings brought inrespect of any offence undera Part 2 of the Consumer Protection Act 1987orb Section(s) 7, 8, 14, and/or 15 of the Food Safety Act 1990committed or alleged to have been committed duringthe Period of Insurance in connection with theBusiness c liability arising out of the presence of Asbestoscommitted or alleged to have been committedduring the Period of Insurance in connection withthe BusinessProvided that the Insurer shall have the conduct andcontrol of all the said proceedings and appeals The Insurer will not pay for a fines or penalties of any kindb proceedings or appeals in respect of any deliberateact or omissionc costs or expenses insured by any other policy 9 Court Attendance CompensationIf during the Period of Insurance any partner, director or\n",
      "------------------------------------------------------------------------------------------\n",
      "------------------------------------------------------------------------------------------\n",
      "------------------------------------------------------------------------------------------\n"
     ]
    }
   ],
   "source": [
    "user_search(\"dat* prtoection officer\", is_phrase=True, num_docs=5, spell_check=True)"
   ]
  }
 ],
 "metadata": {
  "kernelspec": {
   "display_name": "info_retrieval",
   "language": "python",
   "name": "python3"
  },
  "language_info": {
   "codemirror_mode": {
    "name": "ipython",
    "version": 3
   },
   "file_extension": ".py",
   "mimetype": "text/x-python",
   "name": "python",
   "nbconvert_exporter": "python",
   "pygments_lexer": "ipython3",
   "version": "3.10.9"
  },
  "orig_nbformat": 4,
  "vscode": {
   "interpreter": {
    "hash": "658a82028ab00f880bc6bcdff014f37899cf9fd6fbfdda117e2e46094372bdf4"
   }
  }
 },
 "nbformat": 4,
 "nbformat_minor": 2
}
