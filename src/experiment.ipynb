{
 "cells": [
  {
   "cell_type": "code",
   "execution_count": 1,
   "metadata": {},
   "outputs": [],
   "source": [
    "from query_functions import search\n",
    "from setup import startup_engine"
   ]
  },
  {
   "cell_type": "code",
   "execution_count": 2,
   "metadata": {},
   "outputs": [],
   "source": [
    "inverted_list, perm_index, rev_perm_index, n_word_index, corpus, main_df = startup_engine()"
   ]
  },
  {
   "cell_type": "code",
   "execution_count": 7,
   "metadata": {},
   "outputs": [
    {
     "name": "stdout",
     "output_type": "stream",
     "text": [
      "Documents Retrieved: 2\n",
      "------------------------------------------------------------------------------------------\n",
      "------------------------------------------------------------------------------------------\n",
      "Document Name: 5105072011_booklet\n",
      "Page Number: 69\n",
      "Score: 19.452933566312847\n",
      "Paragraph Number: 1\n",
      "Paragraph Text: SAMPLE DOCUMENT\n",
      "65  b. that \n",
      "the \n",
      "medical \n",
      "expenses \n",
      "were \n",
      "reasonable or necessary or otherwise \n",
      "covered under SECTION II.  6. \n",
      "Severability of Insurance  This insurance applies separately to each \n",
      "insured, however, this condition will not \n",
      "increase our limit of liability for any one \n",
      "occurrence.   \n",
      "This severability of insurance provision in no \n",
      "way alters or affects any provision of the policy \n",
      "indicating that it applies to “any insured”. Any \n",
      "limiting or exclusionary provision in the policy \n",
      "indicating that it applies to “any insured” \n",
      "means that such limiting or exclusionary \n",
      "provision is applicable as to any insured under \n",
      "this policy. Where we use the phrase “any \n",
      "insured”, we intend that such provisions not be \n",
      "limited to any one insured and that such \n",
      "provisions are applicable to any insured under \n",
      "the policy.  7. \n",
      "Suits Against Us  We may not be sued until all terms of this \n",
      "policy have been fully compiled with. In \n",
      "addition, under COVERAGE E, legal action \n",
      "may not be brought against us until the \n",
      "obligation to pay, by any insured, is finally \n",
      "determined either by:  a. judgment against the insured after actual \n",
      "trial; or  b. written agreement of the insured, the \n",
      "claimant and us.  No one has the right to bring us into a suit to \n",
      "determine the liability of any insured.   \n",
      "SECTION III – GENERAL PROVISIONS  AAA MEMBERSHIP REQUIREMENT  A valid membership in the American Automobile \n",
      "Association (AAA) or its divisions or affiliates is \n",
      "required as a prerequisite to obtaining and renewing \n",
      "this policy. \n",
      "\n",
      "------------------------------------------------------------------------------------------\n",
      "------------------------------------------------------------------------------------------\n",
      "------------------------------------------------------------------------------------------\n",
      "Document Name: 5105072011_booklet\n",
      "Page Number: 3\n",
      "Score: 17.20083277045352\n",
      "Paragraph Number: 1\n",
      "Paragraph Text: SAMPLE DOCUMENT TABLE OF CONTENTS  AGREEMENT \n",
      "1  DEFINITIONS \n",
      "1  SECTION I – PROPERTY COVERAGES \n",
      "COVERAGE A – DWELLING \n",
      "COVERAGE B – OTHER STRUCTURES \n",
      "COVERAGE C – PERSONAL PROPERTY \n",
      "COVERAGE D – LOSS OF USE  What Property Is Covered – Coverage A and Coverage B \n",
      "8 \n",
      "What Property Is Not Covered – Coverage A and Coverage B \n",
      "8 \n",
      "What Property Is Covered – Coverage C \n",
      "9 \n",
      "What Property Is Covered Subject to Individual Limit of Liability – \n",
      " Coverage C \n",
      "10 \n",
      "What Property Is Not Covered – Coverage C \n",
      "12 \n",
      "What Property Is Covered – Coverage D \n",
      "14 \n",
      "Other Coverages – Section I \n",
      "16 \n",
      "What Losses Are Covered – Section I \n",
      "27 \n",
      "What Losses Are Not Covered – Exclusions - Section I \n",
      "27 \n",
      "Conditions – Section I \n",
      "38  SECTION II – LIABILITY COVERAGES \n",
      "COVERAGE E – PERSONAL LIABILITY \n",
      "COVERAGE F – MEDICAL PAYMENTS TO OTHERS  What Losses Are Covered – Coverage E \n",
      "50 \n",
      "What Losses Are Covered – Coverage F \n",
      "50 \n",
      "What Losses Are Not Covered – Exclusions - Section II \n",
      "51 \n",
      "Additional Payments – Section II \n",
      "59 \n",
      "Conditions – Section II \n",
      "62  SECTION III – GENERAL PROVISIONS \n",
      "AAA Membership Requirement \n",
      "65 \n",
      "Bankruptcy \n",
      "66 \n",
      "Changes and Liberalization \n",
      "66 \n",
      "Concealment or Misrepresentation \n",
      "66 \n",
      "Inflation Guard \n",
      "66 \n",
      "Policy Period \n",
      "67 \n",
      "Statements in the Application For Insurance \n",
      "67 \n",
      "Subrogation \n",
      "68 \n",
      "\n",
      "------------------------------------------------------------------------------------------\n",
      "------------------------------------------------------------------------------------------\n",
      "------------------------------------------------------------------------------------------\n"
     ]
    }
   ],
   "source": [
    "search(\"membership requirement\", inverted_list, perm_index, rev_perm_index, n_word_index, main_df, corpus, ranked=True, is_phrase=True)"
   ]
  },
  {
   "cell_type": "code",
   "execution_count": null,
   "metadata": {},
   "outputs": [],
   "source": []
  }
 ],
 "metadata": {
  "kernelspec": {
   "display_name": "info_retrieval",
   "language": "python",
   "name": "python3"
  },
  "language_info": {
   "codemirror_mode": {
    "name": "ipython",
    "version": 3
   },
   "file_extension": ".py",
   "mimetype": "text/x-python",
   "name": "python",
   "nbconvert_exporter": "python",
   "pygments_lexer": "ipython3",
   "version": "3.10.9"
  },
  "orig_nbformat": 4,
  "vscode": {
   "interpreter": {
    "hash": "658a82028ab00f880bc6bcdff014f37899cf9fd6fbfdda117e2e46094372bdf4"
   }
  }
 },
 "nbformat": 4,
 "nbformat_minor": 2
}
