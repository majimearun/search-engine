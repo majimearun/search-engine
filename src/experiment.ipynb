{
 "cells": [
  {
   "cell_type": "code",
   "execution_count": 1,
   "metadata": {},
   "outputs": [],
   "source": [
    "from query_functions import search\n",
    "from setup import startup_engine"
   ]
  },
  {
   "cell_type": "code",
   "execution_count": 2,
   "metadata": {},
   "outputs": [],
   "source": [
    "inverted_list, perm_index, rev_perm_index, n_word_index, _, main_df = startup_engine()"
   ]
  },
  {
   "cell_type": "code",
   "execution_count": 3,
   "metadata": {},
   "outputs": [],
   "source": [
    "def user_search(query, ranked=True, is_phrase=False, summarize=False, num_docs=None):\n",
    "    \"\"\"Simpler function to call the search function without passing in the indexes\n",
    "    \"\"\"\n",
    "    return search(query, inverted_list, perm_index, rev_perm_index, n_word_index, main_df, ranked=ranked, is_phrase=is_phrase, show_summary=summarize, retrieve_n = num_docs)"
   ]
  },
  {
   "cell_type": "code",
   "execution_count": 9,
   "metadata": {},
   "outputs": [
    {
     "name": "stdout",
     "output_type": "stream",
     "text": [
      "Documents Retrieved: 10\n",
      "------------------------------------------------------------------------------------------\n",
      "------------------------------------------------------------------------------------------\n",
      "Rank: 1\n",
      "Document Name: 5105072011_booklet\n",
      "Page Number: 65\n",
      "Paragraph Number: 1\n",
      "Score: 12.200160652948533\n",
      "------------------------------------------------------------------------------------------\n",
      "------------------------------------------------------------------------------------------\n",
      "Paragraph Text: \n",
      "SAMPLE DOCUMENT61 (3) supervision of any person in the maintenance, use, loading or unloading; of motorized vehicles, including trailers of any type, watercraft or aircraft. h. Arising out of the ownership of, custody of, or the care for a pure or mixed breed American pit bull terrier (also known as an American Staffordshire terrier, pit bull terrier or pit bull), Rottweiler or Canary (also known as a Presa Canario or a Perro de Presa Canario) dog. 4. LOSS ASSESSMENT We will pay up to $1,000 for your share of loss assessment charged during the policy period against you by a corporation or association of property owners, when the assessment is made as a result of: a. bodily injury or property damage not excluded under SECTION II of this policy; or b. liability for an act of a director, officer or trustee in the capacity as a director, officer or trustee, provided: (1) the director, officer or trustee is elected by the members of a corporation or association of property owners; and (2) the director, officer or trustee serves without deriving any income from the exercise of duties which are solely on behalf of a corporation or association of property owners. This coverage applies only to loss assessments charged against you as owner or tenant of the residence premises. We do not cover loss assessments charged against you or a corporation or association of property owners by any governmental body. Regardless of the number of assessments, the limit of $1,000 is the most we will pay for loss arising out of: \n",
      "------------------------------------------------------------------------------------------\n",
      "------------------------------------------------------------------------------------------\n",
      "------------------------------------------------------------------------------------------\n",
      "Rank: 2\n",
      "Document Name: complete-property-owner-policy-wording-policies-incepting-or-renewing-from-010418-acom686-11\n",
      "Page Number: 63\n",
      "Paragraph Number: 1\n",
      "Score: 10.958726006399548\n",
      "------------------------------------------------------------------------------------------\n",
      "------------------------------------------------------------------------------------------\n",
      "Paragraph Text: \n",
      "61Complete Property Owner Policy Wording9Know your rightsAny individual whose personal information we hold has theright to:• object to us processing it. We will either agree to stopprocessing or explain why we are unable to (the right toobject)• ask for a copy of their personal information we hold, subjectto certain exemptions (a data subject access request)• ask us to update or correct their personal information toensure its accuracy (the right of rectification)• ask us to delete their personal information from our recordsif it is no longer needed for the original purpose (the right tobe forgotten)• ask us to restrict the processing of their personal informationin certain circumstances (the right of restriction)• ask for a copy of their personal information, so it can be usedfor their own purposes (the right to data portability)• complain if they feel their personal information has beenmishandled. We encourage individuals to come to us in thefirst instance but they are entitled to complain directly to theInformation Commissioner’s Office (ICO) www.ico.org.uk• ask us, at any time, to stop processing their personalinformation, if the processing is based only on individualconsent (the right to withdraw consent) If you wish to exercise any of these rights please contact ourCustomer Satisfaction Manager:Address: Customer Satisfaction Manager, Allianz, 57 Ladymead,Guildford, Surrey, GU1 1DBEmail: acccsm@allianz.co.ukPhone: 01483 55243810 Allianz (UK) Group Data Protection Officer Contact details Allianz Insurance plc and Allianz Engineering Inspection ServicesLimited are companies within the Allianz Holdings Any queries about how we use personal information should beaddressed to our Data Protection Officer:Address: Data Protection Officer, Allianz, 57 Ladymead, Guildford,Surrey GU1 1DBEmail: dataprotectionofficer@allianz.co.ukPhone: 0330 102 18376Sharing personal informationWe may share personal information with:• other companies within the global Allianz Groupwww.allianz.com• credit reference, fraud prevention and other agencies thatcarry out certain activities on our behalf, for example, theMotor Insurance Database (MID), the Insurance Fraud Bureau(IFB) and marketing agencies if agreed• our approved suppliers to help deal with claims or provideour benefit services, for example, vehicle repairers, legaladvisors and loss adjusters• other insurers, third party underwriters, reinsurers, insuranceintermediaries, regulators, law enforcement and the FinancialOmbudsman Service (FOS); and other companies thatprovide services to us or you, for example, the EmployersLiability Tracing Office (ELTO) and the Claims andUnderwriting Exchange (CUE)• prospective buyers in the event that we wish to sell all or partof our business 7Transferring personal information outside the UKWe use servers located in the European Union (EU) to storepersonal information where it is protected by laws equivalent to\n",
      "------------------------------------------------------------------------------------------\n",
      "------------------------------------------------------------------------------------------\n",
      "------------------------------------------------------------------------------------------\n",
      "Rank: 3\n",
      "Document Name: 1215E.2\n",
      "Page Number: 36\n",
      "Paragraph Number: 1\n",
      "Score: 9.439332794611076\n",
      "------------------------------------------------------------------------------------------\n",
      "------------------------------------------------------------------------------------------\n",
      "Paragraph Text: \n",
      " Effective (2016-06-01) FSCO (1215E.2) © Queen's Printer for Ontario, 2016 (OAP 1) Owner’s Policy Page 29 5.2.2 Claims by Others for Bodily Injury or Death We will pay any amounts any person has a legal right to recover as damages from the owner or driver of an uninsured or unidentified automobile for bodily injury or death of an insured person in an accident involving an automobile, up to the limits in this Section. 5.2.3 Claims for Certain Property Damage We will pay for damage to and for loss of use of the automobile or its contents, or to both, that you or other insured persons have a legal right to recover from the identified owner or driver of an uninsured automobile in an accident involving an automobile. Subject to the $300 deductible, we will pay up to $25,000. Note: Damage to the automobile caused by an unidentified automobile is not covered under this Section, but optional Loss or Damage Coverages may be available. 5.3 Claims for Bodily Injury or Death 5.3.1 Who is Covered? The following are insured persons for bodily injury or death:  Any person who is an occupant of the automobile.  You, your spouse, and any dependent relative of you or your spouse, o when an occupant of an uninsured automobile, or o when not in an automobile, streetcar or railway vehicle if hit by an unidentified or uninsured automobile.  If you are a corporation, unincorporated association or partnership, any director, officer, employee or partner for whose regular use the described automobile is provided, their spouse, and any dependent relative of you or your spouse, o when occupants of an uninsured automobile; or o when not in an automobile, streetcar or railway vehicle if hit by an unidentified or uninsured automobile. Note: If the director, officer, employee or partner, or their spouse is the owner of an automobile that is insured, this policy does not apply. The policy of that automobile will provide coverage. \n",
      "------------------------------------------------------------------------------------------\n",
      "------------------------------------------------------------------------------------------\n",
      "------------------------------------------------------------------------------------------\n",
      "Rank: 4\n",
      "Document Name: 5105072011_booklet\n",
      "Page Number: 31\n",
      "Paragraph Number: 1\n",
      "Score: 9.439332794611076\n",
      "------------------------------------------------------------------------------------------\n",
      "------------------------------------------------------------------------------------------\n",
      "Paragraph Text: \n",
      "SAMPLE DOCUMENT27 This limit is the most we will pay in any one loss regardless of the number of appliances, carpeting or other household furnishing involved in the loss. This coverage does not increase the limit of liability applying to the damaged property. 16. GRAVE MARKERS We will pay up to $5,000 for grave markers, including mausoleums, on or away from the residence premises for loss caused by a cause of loss identified under WHAT LOSSES ARE COVERED – SECTION I. This coverage does not increase the limits of liability that apply to the damaged covered property. 17. ARSON REWARD With the exception of law enforcement officers, police officers or firefighters, we will pay $1,000 for information which leads to an arson conviction in connection with a fire loss to property covered by this policy. This coverage may increase the limit otherwise applicable. However, the $1,000 limit shall not be increased regardless of the number of persons providing information. WHAT LOSSES ARE COVERED – SECTION I We insure against direct physical loss to property described in COVERAGES A, B and C unless the loss is excluded in WHAT LOSSES ARE NOT COVERED – EXCLUSIONS - SECTION I. WHAT LOSSES ARE NOT COVERED – EXCLUSIONS – SECTION I 1. We do not insure for any loss to property under COVERAGES A, B or C caused directly or indirectly by any of the following exclusions or arising from any of the following exclusions, regardless of the cause of the excluded event or damage; other causes of the loss; whether \n",
      "------------------------------------------------------------------------------------------\n",
      "------------------------------------------------------------------------------------------\n",
      "------------------------------------------------------------------------------------------\n",
      "Rank: 5\n",
      "Document Name: 5105072011_booklet\n",
      "Page Number: 66\n",
      "Paragraph Number: 1\n",
      "Score: 9.439332794611076\n",
      "------------------------------------------------------------------------------------------\n",
      "------------------------------------------------------------------------------------------\n",
      "Paragraph Text: \n",
      "SAMPLE DOCUMENT62 a. one accident, including continuous or repeated exposure to substantially the same general harmful condition; or b. a covered act of a director, officer or trustee. An act involving more than one director, officer or trustee is considered to be a single act. The following do not apply to this coverage: a. WHAT LOSSES ARE NOT COVERED – EXCLUSIONS – SECTION II, exclusion 2.g.(1). b. POLICY PERIOD provision, under SECTION III – GENERAL PROVISIONS. CONDITIONS – SECTION II 1. Limit of Liability Regardless of the number of insureds, persons injured, claims made, or suits brought, the limit of liability stated in the declarations for COVERAGE E is the most we will pay for bodily injury and property damage resulting from any one occurrence. Bodily injury to one person includes but is not limited to damages for care, loss of consortium, loss of services and negligent entrustment, and includes imputed negligence, agency, conspiracy, the family purpose doctrine, joint enterprise or venture, employment relationship, partnership, concert of action, or negligent hiring or supervision or retention sustained as the result of the same injuries by: a. the injured person; and b. any other person. If any insured has been insured for more than one policy period under this or any other homeowners policy issued by us, and an accident, including continuous or repeated injurious exposure to essentially the same conditions, results in bodily injury or property damage during more than one of these policy periods, the limits of liability of two or more of these policy periods may not be added together, combined, or stacked to increase the \n",
      "------------------------------------------------------------------------------------------\n",
      "------------------------------------------------------------------------------------------\n",
      "------------------------------------------------------------------------------------------\n",
      "Rank: 6\n",
      "Document Name: Liberty-SECT-Policy-Wording\n",
      "Page Number: 42\n",
      "Paragraph Number: 1\n",
      "Score: 9.439332794611076\n",
      "------------------------------------------------------------------------------------------\n",
      "------------------------------------------------------------------------------------------\n",
      "Paragraph Text: \n",
      " COMMERCIAL PROPERTY POLICY LMCP18v2 Commercial Property Policy © 2012, Liberty Mutual Insurance Europe SE 42 43 COMPLAINTS PROCEDURE Liberty Mutual Insurance Europe SE aims to provide a high quality service to all its customers. In the event that you are dissatisfied please contact us so we can do what we can to help. We take complaints very seriously and aim to address all concerns fairly and efficiently. If you feel that we have not offered you this standard or you have any questions about your contract or the handling of a claim, then in the first instance you should contact your insurance broker or intermediary who arranged this insurance for you or the branch that issued the Policy. If you are still not satisfied with the service and wish to make a complaint, you may do so in writing or verbally using the contact details below: Compliance Officer Liberty Mutual Insurance Europe SE 20 Fenchurch Street London EC3M 3AW Tel: +44 (0) 20 3758 0840 Email: complaints@libertyglobalgroup.com quoting your Policy and/or claim number; or Compliance Officer Liberty Mutual Insurance Europe SE 5-7 rue Léon Laval L-3372 Leudelange Grand Duchy of Luxembourg Tel: +352 28 99 13 00 Email: complaints@libertyglobalgroup.com quoting your Policy and/or claim number. If after making a complaint you are still not satisfied, you may be entitled to refer the dispute to the Financial Ombudsman Service (FOS), which is a free and impartial service, who may be contacted at: Exchange Tower Harbour Exchange London E14 9SR Tel: 0800 023 4567 Email: enquiries@financial-ombudsman.org.uk To confirm whether you are eligible to ask the FOS to review your complaint please contact them at www.financial-ombudsman.org.uk/consumer/complaints.htm. Alternatively, as Liberty Mutual Insurance Europe SE is a Luxembourg insurance company, you are also entitled to refer the dispute to any of the following dispute resolution bodies: Commissariat aux Assurances 7, boulevard Joseph II L-1840 Luxembourg Tel: (+352) 22 69 11 - 1 Email: caa@caa.lu www.caa.lu or Service national du Médiateur de la consommation Ancien Hôtel de la Monnaie 6, rue du Palais de Justice L-1841 Luxembourg Tel: (+352) 46 13 11 Email: info@mediateurconsommation.lu www.mediateurconsommation.lu or Médiateur en Assurances ACA 12, rue Erasme L-1468 Luxembourg Tel: (+352) 44 21 44 1 Email: mediateur@aca.lu www.ulc.lu/fr/organes/detail.asp?T=2&D=descr&ID=6 PRIVACY NOTICE How Liberty Specialty Markets uses your personal data Liberty Specialty Markets takes the protection of your personal data seriously and is committed to protecting your privacy. There are a number of different companies within our group. The specific company within Liberty Specialty Markets which acts as the \"data controller\" of your personal data will be the organisation providing your policy as set out in the documentation that is provided to you. If you are unsure you can also contact \n",
      "------------------------------------------------------------------------------------------\n",
      "------------------------------------------------------------------------------------------\n",
      "------------------------------------------------------------------------------------------\n",
      "Rank: 7\n",
      "Document Name: Property-Owner-Policy-Wording\n",
      "Page Number: 70\n",
      "Paragraph Number: 1\n",
      "Score: 9.439332794611076\n",
      "------------------------------------------------------------------------------------------\n",
      "------------------------------------------------------------------------------------------\n",
      "Paragraph Text: \n",
      "68 | Complete Property Owners InsuranceTelephone calls may be recorded for our mutualprotection, training and monitoring purposes Allianz Insurance plc together with other companieswithin the Allianz SE group of companies (Allianz Group)may use the personal and business details you have givenor which are supplied by third parties including any detailsof directors, officers, partners and employees to provideyou with a quotation; deal with your policy; to searchcredit reference and fraud agencies who may keep arecord of the search; to share with other insuranceorganisations to help offset risks, to help administer yourpolicy and to handle claims and prevent fraud; to supportthe development of our business by including your detailsin customer surveys, and for market research andcompliance business reviews which may be carried out bythird parties acting on behalf of Allianz Group. You agreedwhen you applied for the policy that your directors,officers, partners, and employees have consented toAllianz Group using their details in this way Allianz Group may need to collect data relating to InsuredPersons, which under the Data Protection Act is defined assensitive (such as medical history and conviction details ofthe Insured Persons) for the purpose of evaluating the riskor administering claims which may occur. You mustensure that you have explicit verbal or written consentfrom the insured persons to such information beingprocessed by Allianz Group and that this fact is madeknown to the insured persons If your policy provides Employers' Liability coverinformation relating to your insurance policy will beprovided to the Employers' Liability Tracing Office (the“ELTO”) and added to an electronic database, (the“Database”) in a format set out by the Employers' LiabilityInsurance: Disclosure by Insurers Instrument 2010 The Database assists individual consumer claimants whohave suffered an employment related injury or diseasearising out of their course of employment in the UK foremployers carrying on, or who carried on, business in theUK and who are covered by the employers’ liabilityinsurance of their employers, (the “Claimants”):•to identify which insurer (or insurers) was (or were)providing employers’ liability cover during the relevantperiods of employment; and•to identify the relevant employers’ liability insurancepolicies The Database and the data stored on it may be accessedand used by the Claimants, their appointedrepresentatives, insurers with potential liability for UKcommercial lines employers’ liability insurance cover andany other persons or entities permitted by law. TheDatabase will be managed by the ELTO and furtherinformation can be found on the ELTO websitewww.elto.org.uk. By entering into this insurance policy youwill be deemed to specifically consent to the use of yourinsurance policy data in this way and for these purposes Allianz will share your information with Barclays Group forthe purpose of managing policy(ies), to assess theconditions of the insurance contract, to deal with claims,\n",
      "------------------------------------------------------------------------------------------\n",
      "------------------------------------------------------------------------------------------\n",
      "------------------------------------------------------------------------------------------\n",
      "Rank: 8\n",
      "Document Name: eSols Property Owners Commercial Policy Wording 2018 Policies which incepted before 01 July\n",
      "Page Number: 39\n",
      "Paragraph Number: 1\n",
      "Score: 9.439332794611076\n",
      "------------------------------------------------------------------------------------------\n",
      "------------------------------------------------------------------------------------------\n",
      "Paragraph Text: \n",
      "Pen Underwriting Limited is authorised and regulated by the Financial Conduct Authority (FCA number 314493). Registered Office: The Walbrook Building, 25 Walbrook, London EC4N 8AW. Registered in England and Wales. Company Number: 5172311. http://www.penunderwriting.co.uk You can check this on the Financial Services Register by visiting the FCA's website www.fca.org.uk or by contacting the FCA on 0800 1116768. PROPERTY OWNERS INSURANCE 42 (13) Jurisdiction All disputes arising out of or in connection with this Policy, including but not limited to any disputes relating to the formation, validity and interpretation and application of the terms, conditions, limits and exclusions of this Policy, shall be subject to the exclusive jurisdiction of the Courts of England and Wales (unless you live in Jersey in which case the law of Jersey will apply and the Jersey courts will have exclusive jurisdiction). (14) Language The contractual terms, conditions, exclusions and other information relating to this Policy will be in the English language. COMPLAINTS PROCEDURE (not applicable to Legal Expenses Insurance Section) Our promise of service It is always the intention to provide a first class standard of service. However it is appreciated that occasionally things go wrong. If Your complaint is about the way Your Policy was sold to You, please contact Your broker to report Your complaint. If You have a complaint regarding Your claim, please telephone Us on the number shown in Your claims documentation. Alternatively for any other type of complaint You can contact the Pen Underwriting Limited Complaints Officer quoting Your policy or claim number. Pen Underwriting Limited Complaints Officer 3 Atlantic Quay 20 York Street Glasgow G2 8AE Telephone: 0141 285 3539 Email: pencomplaints@penunderwriting.com We will try to resolve Your complaint by the end of the next working day. If We are unable to do this, We will write to You within three working days to either:  tell You what We have done to resolve the problem; or  acknowledge Your complaint and let You know when You can expect a full response We will also let You know who is dealing with the matter. We will always aim to resolve Your complaint within four weeks of receipt. If We are unable to do this We will give You the reasons for the delay and indicate when We will be able to provide a final response. If We cannot resolve the differences between us, eight weeks from you first raising the complaint. Upon receipt of the letter if You remain dissatisfied You may refer Your complaint to the Financial Ombudsman Service if:  You have an annual turnover of less than EUR 2million and fewer than 10 employees and,  if for any reason You are still dissatisfied with Our final response, or  if We have not issued Our final response within eight weeks from You first raising the complaint. The Financial Ombudsman Service Exchange Tower London E14 9SR www.financial-ombudsman.org.uk Following the complaints procedure does not affect Your \n",
      "------------------------------------------------------------------------------------------\n",
      "------------------------------------------------------------------------------------------\n",
      "------------------------------------------------------------------------------------------\n",
      "Rank: 9\n",
      "Document Name: 7thEditionPolicy\n",
      "Page Number: 9\n",
      "Paragraph Number: 1\n",
      "Score: 7.480494255642996\n",
      "------------------------------------------------------------------------------------------\n",
      "------------------------------------------------------------------------------------------\n",
      "Paragraph Text: \n",
      " Compulsory Insurance (Continued) 7We will not pay PIP benefits to or for: 1. Anyone who, at the time of the accident, was operating or occupying a motorcycle, any motor vehicle not subject to motor vehicle registration, or a motorized bicycle, including a moped. 2. Anyone who contributed to his or her injury by operating an auto (a) while under the influence of alcohol, marijuana, or a narcotic drug, (b) while committing a felony or seeking to avoid arrest by a police officer, or (c) with the specific intent of causing injury to himself, herself or others. 3. Anyone who is entitled to benefits under any workers’ compensation law for the same injury. When you purchased this Part you were given the choice of either excluding yourself, or yourself and household members, from some or all of the PIP coverage. The portion of each claim you may have agreed not to be covered for is called a “deductible.” You paid a smaller premium if you chose a deductible. In that case, we will only pay up to the difference between $8,000 and the amount of your deductible. The deductible is shown on the Coverage Selections Page. If anyone is entitled to PIP benefits and also to benefits under another Part of this policy, we will pay from this Part first. We will not pay PIP benefits to or for an injured person, to the extent those benefits would duplicate expenses or losses recovered by that person in a court judgment or settlement. If anyone covered under this policy is also entitled to PIP benefits from any other auto policy, the total benefits payable will not be more than the highest amount payable under whichever one of the policies would have paid the most. In that case, each insurer will pay only its proportionate share. We will not pay benefits under this Part which duplicate payments made under the No-Fault coverage of any other auto policy. Part 3. Sometimes an owner or operator of an auto legally responsible Bodily Injury for an accident is uninsured. Some accidents involve unidentified Caused By An hit-and-run autos. Under this Part, we will pay damages for bodily Uninsured Auto injury to people injured or killed in certain accidents caused by uninsured or hit-and-run autos. We will pay only if the injured person is legally entitled to recover from the owner or operator of the uninsured or hit-and-run auto. We will pay for hit-and-run accidents only if the owner or operator causing the accident cannot be identified \n",
      "------------------------------------------------------------------------------------------\n",
      "------------------------------------------------------------------------------------------\n",
      "------------------------------------------------------------------------------------------\n",
      "Rank: 10\n",
      "Document Name: 1215E.2\n",
      "Page Number: 37\n",
      "Paragraph Number: 1\n",
      "Score: 7.480494255642996\n",
      "------------------------------------------------------------------------------------------\n",
      "------------------------------------------------------------------------------------------\n",
      "Paragraph Text: \n",
      " Effective (2016-06-01) FSCO (1215E.2) © Queen's Printer for Ontario, 2016 (OAP 1) Owner’s Policy Page 30 5.3.2 Limitation on a Dependent Relative A dependent relative who owns an insured automobile, or who suffers bodily injury or death while an occupant of his or her own uninsured automobile, is not covered under this Section of your policy. 5.3.3 If the Described Automobile is Leased or Rented If this policy has been changed to allow the rental or lease of the described automobile for more than 30 days, the person or organization who is the lessee of the automobile is treated as the named insured. 5.3.4 Conditions Applying to Claims for Bodily Injury or Death A person entitled to claim compensation for the bodily injury or death of an insured person must:  give us written notice of the claim within 30 days of the accident or, if unable, as soon as possible after that.  provide us with as much evidence as possible in support of the claim, giving details of the accident and the resulting loss. This should be done within 90 days of the accident or, if unable, as soon as possible after that.  provide us with a certificate from the medical or psychological advisor of the insured person if we request it. The certificate must state the cause of injury or death and, if appropriate, the nature of the injury and how long any disability is expected to last.  provide us with details of any other insurance policy, other than a life insurance policy, under which there is a right to compensation. 5.3.5 Accidents Involving Unidentified Automobiles If an unidentified automobile causes bodily injury or death to an insured person, the insured person or their representative must report the accident within 24 hours, or, if unable, as soon as possible after that, to a police officer or similar authority. You or other insured persons must give us a written statement within 30 days of the accident, or, if unable, as soon as possible after that, giving a detailed description of what happened. A representative can make the statement. The statement must say whether the accident was caused by someone whose identity cannot be determined. It must also detail the extent of the injuries suffered by you or other insured persons and any property damaged in the accident. The automobile in which you or other insured persons were an occupant at the time of the accident must be available for inspection at our request. \n",
      "------------------------------------------------------------------------------------------\n",
      "------------------------------------------------------------------------------------------\n",
      "------------------------------------------------------------------------------------------\n"
     ]
    }
   ],
   "source": [
    "user_search(\"officer\", is_phrase=False, num_docs=10)"
   ]
  },
  {
   "cell_type": "code",
   "execution_count": 5,
   "metadata": {},
   "outputs": [
    {
     "data": {
      "text/plain": [
       "906"
      ]
     },
     "execution_count": 5,
     "metadata": {},
     "output_type": "execute_result"
    }
   ],
   "source": [
    "len(main_df)"
   ]
  },
  {
   "cell_type": "code",
   "execution_count": null,
   "metadata": {},
   "outputs": [],
   "source": []
  }
 ],
 "metadata": {
  "kernelspec": {
   "display_name": "info_retrieval",
   "language": "python",
   "name": "python3"
  },
  "language_info": {
   "codemirror_mode": {
    "name": "ipython",
    "version": 3
   },
   "file_extension": ".py",
   "mimetype": "text/x-python",
   "name": "python",
   "nbconvert_exporter": "python",
   "pygments_lexer": "ipython3",
   "version": "3.10.9"
  },
  "orig_nbformat": 4,
  "vscode": {
   "interpreter": {
    "hash": "658a82028ab00f880bc6bcdff014f37899cf9fd6fbfdda117e2e46094372bdf4"
   }
  }
 },
 "nbformat": 4,
 "nbformat_minor": 2
}
