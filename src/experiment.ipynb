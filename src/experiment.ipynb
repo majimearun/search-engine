{
 "cells": [
  {
   "cell_type": "code",
   "execution_count": 1,
   "metadata": {},
   "outputs": [],
   "source": [
    "from query_functions import search\n",
    "from setup import startup_engine"
   ]
  },
  {
   "cell_type": "code",
   "execution_count": 2,
   "metadata": {},
   "outputs": [],
   "source": [
    "# paths for our data\n",
    "path1 = \"/home/majime/programming/github/search-engine/data/tokenized/auto.csv\"\n",
    "path2 = \"/home/majime/programming/github/search-engine/data/tokenized/property.csv\""
   ]
  },
  {
   "cell_type": "code",
   "execution_count": 3,
   "metadata": {},
   "outputs": [],
   "source": [
    "inverted_list, perm_index, rev_perm_index, n_word_index, _, main_df = startup_engine(path1, path2)"
   ]
  },
  {
   "cell_type": "code",
   "execution_count": 4,
   "metadata": {},
   "outputs": [],
   "source": [
    "def user_search(query, ranked=True, is_phrase=False, summarize=False, num_docs=None, spell_check=False, autocomplete=False, n_auto_results=5):\n",
    "    \"\"\"Simpler function to call the engine's search function without passing in the indexes\n",
    "    \"\"\"\n",
    "    return search(query, inverted_list, perm_index, rev_perm_index, n_word_index, main_df, ranked=ranked, is_phrase=is_phrase, show_summary=summarize, retrieve_n = num_docs, spell_check=spell_check, autocomplete=autocomplete, n_auto_results=n_auto_results)"
   ]
  },
  {
   "cell_type": "code",
   "execution_count": 5,
   "metadata": {},
   "outputs": [
    {
     "name": "stdout",
     "output_type": "stream",
     "text": [
      "No documents found with direct match with data \"prtoection\". Performing spell check...\n",
      "Corrected Query: data protection\n",
      "Documents Retrieved: 5\n",
      "------------------------------------------------------------------------------------------\n",
      "------------------------------------------------------------------------------------------\n",
      "Rank: 1\n",
      "Document Name: BRIT-PO-Policy-Wording-May-2016-1\n",
      "Page Number: 53\n",
      "Paragraph Number: 1\n",
      "Score: 27.987793382027593\n",
      "------------------------------------------------------------------------------------------\n",
      "------------------------------------------------------------------------------------------\n",
      "Paragraph Text: \n",
      " Page | 53 Further Information Data Protection Act 1998 In order to assess the terms of the insurance contract or administer claims that arise, We may need to collect data that the Data Protection Act defines as personal or sensitive. All data collected, including personal and sensitive data, will be kept secure at all times in accordance with the provisions of Data Protection Act 1998. We will also monitor and record Our communication with You for compliance and training purposes. Where You provide Us with personal or sensitive data relating to another person, You will be responsible for ensuring that the person to whom the data pertains is informed of Our identity and the purpose and processes for which their information is disclosed. Personal information will be stored electronically and used for administration, risk assessment, research and statistical purposes and for crime prevention. Personal information may be disclosed to a) Our members, our agents or service providers, b) other insurance entities interested in the risk written under this policy, c) credit reference and fraud databases; d) law enforcement agencies and statutory bodies. Where we provide cover to you under the Employers’ Liability (Compulsory Insurance) Regulations 1998, we are required by regulation to maintain a database and add details of all the companies and subsidiaries covered to the Employers’ Liability Tracing Office database. In certain circumstances, for example for systems administration purposes, We may have to transfer Your information to another country, which may be a country outside the European Economic Area (EEA). We will ensure that such transfers outside the European Economic Area comply with the data protection law and that the information is kept secure and protected from unauthorised access. If you knowingly provide us with false or inaccurate information and We suspect You of fraud, We will record our suspicions and make the information available on databases recording suspected fraudulent behaviour which other organisations will have access to. By proceeding with this contract You signify Your consent to such information being processed by Us or Our agents and that You are agreeable for Us to transfer Your information to a country outside the EEA. Should You wish to receive a copy of the information We hold on You, or wish to correct any inaccuracies in Your information or have any queries in relation to Your information , please contact: Data Protection Officer Brit Syndicate 2987 at Lloyd’s 55 Bishopsgate London EC2N 3AS Financial Services Compensation Scheme We are covered by the Financial Services Compensation Scheme (FSCS). You may be entitled to compensation from the scheme if We cannot meet Our obligations. This depends on the type of business and the circumstances of the claim. Further information about compensation scheme arrangements is available from the FSCS. Financial Services Compensation Scheme \n",
      "------------------------------------------------------------------------------------------\n",
      "------------------------------------------------------------------------------------------\n",
      "------------------------------------------------------------------------------------------\n",
      "Rank: 2\n",
      "Document Name: Property-Owner-Policy-Wording\n",
      "Page Number: 36\n",
      "Paragraph Number: 1\n",
      "Score: 22.574215162958744\n",
      "------------------------------------------------------------------------------------------\n",
      "------------------------------------------------------------------------------------------\n",
      "Paragraph Text: \n",
      "34 | Complete Property Owners Insurance6 Data ProtectionThe Insurer will indemnify the Insured and at theInsured’s request any partner, director or Employee ofthe Insured against the sums which the Insured or anydirector, partner or Employee of the Insured become(s)legally liable to pay as compensation, under Section(s)22 and/or 23 of the Data Protection Act 1984 asamended by the Data Protection Act 1998, for damageor distress caused in connection with the Businessduring the Period of Insurance provided that theInsured isia registered user in accordance with the terms of theActii not in business as a computer bureau The total amount payable including all costs andexpenses in respect of all claims occurring during anyone Period of Insurance, is limited to £100,000, underthis Extension The Insurer will not pay fora any Damage or distress caused by any deliberate actor omission by the Insured the result of which couldreasonably have been expected by the Insuredhaving regard to the nature and circumstances ofsuch act or omissionb any Damage or distress caused by any act of fraudor dishonestyc the costs and expenses of rectifying, rewriting orerasing datad liability arising from the recording, processing orprovision of data for reward or to determine thefinancial status of any person e the payment of fines or penalties 7 Defective Premises Act 1972The Insurer will indemnify the Insured in the terms ofthis Section against liability incurred by the Insuredunder Section 3 of the Defective Premises Act 1972 orSection 5 of the Defective Premises (Northern Ireland)Order 1975 in connection with premises or landdisposed of by the Insured Provided that this Extension does not covera the costs of rectifying any damage or defect in thepremises or land disposed ofb liability for which the Insured is entitled to indemnityunder any other insurance 8 Consumer Protection and Food Safety Acts – Legal Defence CostsThe Insurer will indemnify the Insured and if theInsured so request any partner, director or Employee ofthe Insured in the terms of this Section in respect oflegal costs and expenses incurred with the writtenconsent of the Insurer in connection with the defenceof any criminal proceedings or an appeal againstconviction arising from such proceedings brought inrespect of any offence undera Part 2 of the Consumer Protection Act 1987orb Section(s) 7, 8, 14, and/or 15 of the Food Safety Act 1990committed or alleged to have been committed duringthe Period of Insurance in connection with theBusiness c liability arising out of the presence of Asbestoscommitted or alleged to have been committedduring the Period of Insurance in connection withthe BusinessProvided that the Insurer shall have the conduct andcontrol of all the said proceedings and appeals The Insurer will not pay for a fines or penalties of any kindb proceedings or appeals in respect of any deliberateact or omissionc costs or expenses insured by any other policy 9 Court Attendance CompensationIf during the Period of Insurance any partner, director or\n",
      "------------------------------------------------------------------------------------------\n",
      "------------------------------------------------------------------------------------------\n",
      "------------------------------------------------------------------------------------------\n",
      "Rank: 3\n",
      "Document Name: eSols Property Owners Commercial Policy Wording 2018 Policies which incepted before 01 July\n",
      "Page Number: 25\n",
      "Paragraph Number: 1\n",
      "Score: 22.574215162958744\n",
      "------------------------------------------------------------------------------------------\n",
      "------------------------------------------------------------------------------------------\n",
      "Paragraph Text: \n",
      "Pen Underwriting Limited is authorised and regulated by the Financial Conduct Authority (FCA number 314493). Registered Office: The Walbrook Building, 25 Walbrook, London EC4N 8AW. Registered in England and Wales. Company Number: 5172311. http://www.penunderwriting.co.uk You can check this on the Financial Services Register by visiting the FCA's website www.fca.org.uk or by contacting the FCA on 0800 1116768. PROPERTY OWNERS INSURANCE 25 (2) Contractual Liability We will indemnify The Insured against liability in respect of accidental Bodily Injury or Damage to Property imposed on You solely by reason of the terms of any agreement provided that the conduct and control of any claim is vested in Us. (3) Cross Liabilities We will indemnify each party named as The Policyholder in The Schedule as if a separate Policy had been issued to each. The total amount payable will not exceed The Limit of Indemnity regardless of the number of parties claiming to be indemnified. CONDITIONS The following conditions apply to this Section. (also refer to the Policy Conditions at the back of this Policy Wording). (1) Suspension of Cover We may, at any reasonable time, inspect any property and, in the event of any defect or danger being apparent, We may by written notice to You suspend all Our liability that might otherwise arise from such defect or danger. (2) Bona Fide Subcontractors You shall as a condition precedent to liability in every instance ensure and keep a record that bona fide subcontractors maintain Employers’ Liability insurance, where required by statute, and Public and Products Liability insurances for not less than the Limit of Indemnity in respect of each such Section as stated in The Schedule. CLAUSES The following clauses apply to this Section. (1) Additional Activities The Business includes (1) ownership, use and upkeep of Your premises. (2) upkeep of vehicles and plant which are owned and used by You. (3) Your canteen, social, sports, educational and welfare organisations for the benefit of any Employee. (4) Your first aid, fire, security and ambulance services. (5) Your participation in exhibitions. (6) private work by any Employee, with Your prior consent, for You or for any director, partner or Employee. (4) Data Protection Act 1998 We will indemnify The Insured in respect of: (1) legal fees and defence costs (2) legal liability for Compensation to an individual (a) the subject of personal data The Insured holds and (b) who suffers damage or distress caused by (i) inaccuracy of data (ii) loss of the data (iii) unauthorised destruction or disclosure of the data (iv) unauthorised access to the data arising from proceedings brought against The Insured under Section 13 of the Data Protection Act 1998. The maximum We will pay for all claims happening during any one Period of Insurance is £1,000,000. We will not provide indemnity in respect of any agreement for or including the performance of work outside The Defined \n",
      "------------------------------------------------------------------------------------------\n",
      "------------------------------------------------------------------------------------------\n",
      "------------------------------------------------------------------------------------------\n",
      "Rank: 4\n",
      "Document Name: Property-Owner-Policy-Wording\n",
      "Page Number: 70\n",
      "Paragraph Number: 1\n",
      "Score: 19.407474910082648\n",
      "------------------------------------------------------------------------------------------\n",
      "------------------------------------------------------------------------------------------\n",
      "Paragraph Text: \n",
      "68 | Complete Property Owners InsuranceTelephone calls may be recorded for our mutualprotection, training and monitoring purposes Allianz Insurance plc together with other companieswithin the Allianz SE group of companies (Allianz Group)may use the personal and business details you have givenor which are supplied by third parties including any detailsof directors, officers, partners and employees to provideyou with a quotation; deal with your policy; to searchcredit reference and fraud agencies who may keep arecord of the search; to share with other insuranceorganisations to help offset risks, to help administer yourpolicy and to handle claims and prevent fraud; to supportthe development of our business by including your detailsin customer surveys, and for market research andcompliance business reviews which may be carried out bythird parties acting on behalf of Allianz Group. You agreedwhen you applied for the policy that your directors,officers, partners, and employees have consented toAllianz Group using their details in this way Allianz Group may need to collect data relating to InsuredPersons, which under the Data Protection Act is defined assensitive (such as medical history and conviction details ofthe Insured Persons) for the purpose of evaluating the riskor administering claims which may occur. You mustensure that you have explicit verbal or written consentfrom the insured persons to such information beingprocessed by Allianz Group and that this fact is madeknown to the insured persons If your policy provides Employers' Liability coverinformation relating to your insurance policy will beprovided to the Employers' Liability Tracing Office (the“ELTO”) and added to an electronic database, (the“Database”) in a format set out by the Employers' LiabilityInsurance: Disclosure by Insurers Instrument 2010 The Database assists individual consumer claimants whohave suffered an employment related injury or diseasearising out of their course of employment in the UK foremployers carrying on, or who carried on, business in theUK and who are covered by the employers’ liabilityinsurance of their employers, (the “Claimants”):•to identify which insurer (or insurers) was (or were)providing employers’ liability cover during the relevantperiods of employment; and•to identify the relevant employers’ liability insurancepolicies The Database and the data stored on it may be accessedand used by the Claimants, their appointedrepresentatives, insurers with potential liability for UKcommercial lines employers’ liability insurance cover andany other persons or entities permitted by law. TheDatabase will be managed by the ELTO and furtherinformation can be found on the ELTO websitewww.elto.org.uk. By entering into this insurance policy youwill be deemed to specifically consent to the use of yourinsurance policy data in this way and for these purposes Allianz will share your information with Barclays Group forthe purpose of managing policy(ies), to assess theconditions of the insurance contract, to deal with claims,\n",
      "------------------------------------------------------------------------------------------\n",
      "------------------------------------------------------------------------------------------\n",
      "------------------------------------------------------------------------------------------\n",
      "Rank: 5\n",
      "Document Name: rsa_property_owners_policy_wording\n",
      "Page Number: 40\n",
      "Paragraph Number: 1\n",
      "Score: 19.407474910082648\n",
      "------------------------------------------------------------------------------------------\n",
      "------------------------------------------------------------------------------------------\n",
      "Paragraph Text: \n",
      "40 | Properties Policysection 5 Data protectionWhat is coveredWhat is not covered1 The defence of any Legal proceedings brought against You for compensation under Section 13 of the Data Protection Act 1998 provided that You are already registered with the Data Protection Commissioner2 An appeal by You againstA) the refusal of Your application for registration by the Data Protection CommissionerB) the refusal of an application for alteration of registered particulars by the Data Protection CommissionerC) an enforcement noticeD) a de-registration noticeE) a transfer prohibition noticeprovided that You agree to appoint our Administrator’s approved consultant as Your Appointed representative in accordance with Requirement 4 A) i) 1 Any amount in excess of the Limit of indemnity for Any one Claim shown in the schedule 2 Legal expenses arising from or relating toA) any criminal prosecutionB) any legal action concerning the grant and/or execution of a warrant of entryC) any claim where You do not appoint our Administrator’s approved consultant as the Appointed representative in accordance with Requirement 4 A) i)D) a matter which is more specifically covered by another Insurance section of this policy or would have been had it not been for an exclusion or proviso applying to that Insurance \n",
      "------------------------------------------------------------------------------------------\n",
      "------------------------------------------------------------------------------------------\n",
      "------------------------------------------------------------------------------------------\n"
     ]
    }
   ],
   "source": [
    "user_search(\"data \\\"prtoection\\\"\", spell_check=True, num_docs=5)    "
   ]
  },
  {
   "cell_type": "code",
   "execution_count": null,
   "metadata": {},
   "outputs": [],
   "source": []
  }
 ],
 "metadata": {
  "kernelspec": {
   "display_name": "info_retrieval",
   "language": "python",
   "name": "python3"
  },
  "language_info": {
   "codemirror_mode": {
    "name": "ipython",
    "version": 3
   },
   "file_extension": ".py",
   "mimetype": "text/x-python",
   "name": "python",
   "nbconvert_exporter": "python",
   "pygments_lexer": "ipython3",
   "version": "3.10.9"
  },
  "orig_nbformat": 4,
  "vscode": {
   "interpreter": {
    "hash": "658a82028ab00f880bc6bcdff014f37899cf9fd6fbfdda117e2e46094372bdf4"
   }
  }
 },
 "nbformat": 4,
 "nbformat_minor": 2
}
