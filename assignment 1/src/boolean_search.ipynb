{
 "cells": [
  {
   "cell_type": "code",
   "execution_count": 1,
   "metadata": {},
   "outputs": [],
   "source": [
    "# importing libraries\n",
    "import pandas as pd\n",
    "import numpy as np\n",
    "import glob"
   ]
  },
  {
   "cell_type": "code",
   "execution_count": 2,
   "metadata": {},
   "outputs": [],
   "source": [
    "auto_files = glob.glob(\"/home/majime/programming/github/information-retrieval-assignments/assignment 1/csvs/Auto/*.csv\")\n",
    "property_files = glob.glob(\"/home/majime/programming/github/information-retrieval-assignments/assignment 1/csvs/Property/*.csv\")"
   ]
  },
  {
   "cell_type": "code",
   "execution_count": 3,
   "metadata": {},
   "outputs": [],
   "source": [
    "#  create a posting list for each document in the format dataframe_index: [list of words in the document]\n",
    "for file in auto_files:\n",
    "    df = pd.read_csv(file)\n",
    "    df[\"posting_list_tokenized\"] = df[\"tokenized\"].apply(lambda x: sorted([word.lower() for word in x.split()]))\n",
    "    df[\"posting_list_stemmed\"] = df[\"stemmed\"].apply(lambda x: sorted([word.lower() for word in x.split()]))\n",
    "    df.to_csv(file, index=False)\n",
    "for file in property_files:\n",
    "    df = pd.read_csv(file)\n",
    "    df[\"posting_list\"] = df[\"tokenized\"].apply(lambda x: sorted([word.lower() for word in x.split()]))\n",
    "    df[\"posting_list_stemmed\"] = df[\"stemmed\"].apply(lambda x: sorted([word.lower() for word in x.split()]))\n",
    "    df.to_csv(file, index=False)\n"
   ]
  },
  {
   "cell_type": "code",
   "execution_count": 4,
   "metadata": {},
   "outputs": [],
   "source": [
    "def and_query(df, s: list):\n",
    "    for word in s:\n",
    "        df = df[df[\"posting_list\"].apply(lambda x: word.lower() in x)]\n",
    "    return df"
   ]
  },
  {
   "cell_type": "code",
   "execution_count": 5,
   "metadata": {},
   "outputs": [],
   "source": [
    "def or_query(df, s: list):\n",
    "    union_df = pd.DataFrame(columns = df.columns)\n",
    "    for word in s:\n",
    "        union_df = pd.concat([union_df, df[df[\"posting_list\"].apply(lambda x: word.lower() in x)]])\n",
    "    return union_df"
   ]
  },
  {
   "cell_type": "code",
   "execution_count": 6,
   "metadata": {},
   "outputs": [],
   "source": [
    "df = pd.read_csv(auto_files[0])"
   ]
  },
  {
   "cell_type": "code",
   "execution_count": 7,
   "metadata": {},
   "outputs": [
    {
     "data": {
      "text/plain": [
       "'/home/majime/programming/github/information-retrieval-assignments/assignment 1/csvs/Auto/PL-600003-87.csv'"
      ]
     },
     "execution_count": 7,
     "metadata": {},
     "output_type": "execute_result"
    }
   ],
   "source": [
    "auto_files[0]"
   ]
  },
  {
   "cell_type": "code",
   "execution_count": 8,
   "metadata": {},
   "outputs": [],
   "source": [
    "result = and_query(df, [\"Agreement\", \"Coverage\"])"
   ]
  },
  {
   "cell_type": "code",
   "execution_count": 9,
   "metadata": {},
   "outputs": [
    {
     "name": "stdout",
     "output_type": "stream",
     "text": [
      "AGREEMENT\n",
      "In return for payment of the premium and subject to all the terms of this policy we will provide the\n",
      "coverages you have selected These are shown by premium entries in the Declarations The Declarations is a\n",
      "part of this policy\n",
      "\n",
      "DAMAGE TO YOUR AUTO\n",
      "Coverage E  Collision\n",
      "Coverage F  Comprehensive\n",
      "Other than Collision\n",
      "Coverage G  Rental Reimbursement\n",
      "Coverage I  Towing and Labor Costs\n",
      "INSURING AGREEMENT\n",
      "A Collision and Comprehensive Other than Collision We will pay for direct and accidental\n",
      "loss to your covered auto or any nonowned\n",
      "auto including their equipment minus any applicable deductible shown in the Declarations\n",
      "We will pay for loss to your covered auto\n",
      "caused by\n",
      "1 Collision only if the Declarations indicate\n",
      "that Coverage E  Collision is provided\n",
      "for that auto\n",
      "2 Other than collision only if the Declarations indicate that Coverage F  Comprehensive is provided for that auto\n",
      "If there is loss to a nonowned auto we will\n",
      "provide the broadest coverage applicable to\n",
      "any your covered auto shown in the Declarations\n",
      "B Rental Reimbursement When there is a loss\n",
      "to one of your covered autos described in the\n",
      "Declarations for which a specific premium\n",
      "charge indicates that Coverage G  Rental\n",
      "Reimbursement is afforded\n",
      "We will reimburse you for expenses you incur\n",
      "to rent a substitute auto This coverage applies\n",
      "only if\n",
      "1 The auto is withdrawn from use for more\n",
      "than 24 hours and\n",
      "2 The loss is caused by collision or covered\n",
      "under Coverage F  Comprehensive of\n",
      "this policy\n",
      "\n",
      "CHANGES\n",
      "This policy contains all the agreements between\n",
      "you and us Its terms may not be changed or waived\n",
      "except by endorsement issued by us If a change requires a premium adjustment we will adjust the\n",
      "premium as of the effective date of change according to the manuals then in use by us\n",
      "We may revise this policy form to provide more\n",
      "coverage without additional premium charge If we\n",
      "do this your policy will automatically provide the\n",
      "additional coverage as of the date the revision is effective in your state\n",
      "\n"
     ]
    }
   ],
   "source": [
    "for row in result.iterrows():\n",
    "    print(row[1][\"paragraph\"], end=\"\\n\\n\")"
   ]
  },
  {
   "cell_type": "code",
   "execution_count": null,
   "metadata": {},
   "outputs": [],
   "source": []
  }
 ],
 "metadata": {
  "kernelspec": {
   "display_name": "info_retrieval",
   "language": "python",
   "name": "python3"
  },
  "language_info": {
   "codemirror_mode": {
    "name": "ipython",
    "version": 3
   },
   "file_extension": ".py",
   "mimetype": "text/x-python",
   "name": "python",
   "nbconvert_exporter": "python",
   "pygments_lexer": "ipython3",
   "version": "3.10.9"
  },
  "orig_nbformat": 4,
  "vscode": {
   "interpreter": {
    "hash": "658a82028ab00f880bc6bcdff014f37899cf9fd6fbfdda117e2e46094372bdf4"
   }
  }
 },
 "nbformat": 4,
 "nbformat_minor": 2
}
