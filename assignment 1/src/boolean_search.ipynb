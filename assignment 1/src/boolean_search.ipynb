{
 "cells": [
  {
   "cell_type": "code",
   "execution_count": 1,
   "metadata": {},
   "outputs": [],
   "source": [
    "# importing libraries\n",
    "import pandas as pd\n",
    "import numpy as np\n",
    "import glob\n",
    "import spacy\n",
    "nlp = spacy.load('en_core_web_sm')"
   ]
  },
  {
   "cell_type": "code",
   "execution_count": null,
   "metadata": {},
   "outputs": [],
   "source": [
    "auto_files = glob.glob(\"/home/majime/programming/github/information-retrieval-assignments/assignment 1/csvs/Auto/*.csv\")\n",
    "property_files = glob.glob(\"/home/majime/programming/github/information-retrieval-assignments/assignment 1/csvs/Property/*.csv\")"
   ]
  },
  {
   "cell_type": "code",
   "execution_count": null,
   "metadata": {},
   "outputs": [],
   "source": [
    "#  create a posting list for each document in the format dataframe_index: [list of words in the document]\n",
    "for file in auto_files:\n",
    "    df = pd.read_csv(file)\n",
    "    df[\"posting_list_tokenized\"] = df[\"tokenized\"].apply(lambda x: sorted([word.lower() for word in x.split()]))\n",
    "    df[\"posting_list_stemmed\"] = df[\"stemmed\"].apply(lambda x: sorted([word.lower() for word in x.split()]))\n",
    "    df.to_csv(file, index=False)\n",
    "for file in property_files:\n",
    "    df = pd.read_csv(file)\n",
    "    df[\"posting_list\"] = df[\"tokenized\"].apply(lambda x: sorted([word.lower() for word in x.split()]))\n",
    "    df[\"posting_list_stemmed\"] = df[\"stemmed\"].apply(lambda x: sorted([word.lower() for word in x.split()]))\n",
    "    df.to_csv(file, index=False)\n"
   ]
  },
  {
   "cell_type": "code",
   "execution_count": null,
   "metadata": {},
   "outputs": [],
   "source": [
    "def and_query(df, s: list):\n",
    "    for word in s:\n",
    "        word = nlp(word)[0].lemma_.lower()\n",
    "        df = df[df[\"posting_list\"].apply(lambda x: word in x)]\n",
    "    return df"
   ]
  },
  {
   "cell_type": "code",
   "execution_count": null,
   "metadata": {},
   "outputs": [],
   "source": [
    "def or_query(df, s: list):\n",
    "    union_df = pd.DataFrame(columns = df.columns)\n",
    "    for word in s:\n",
    "        word = nlp(word)[0].lemma_.lower()\n",
    "        union_df = pd.concat([union_df, df[df[\"posting_list\"].apply(lambda x: word in x)]])\n",
    "    return union_df"
   ]
  },
  {
   "cell_type": "code",
   "execution_count": null,
   "metadata": {},
   "outputs": [],
   "source": [
    "df = pd.read_csv(auto_files[0])"
   ]
  },
  {
   "cell_type": "code",
   "execution_count": null,
   "metadata": {},
   "outputs": [],
   "source": [
    "auto_files[0]"
   ]
  },
  {
   "cell_type": "code",
   "execution_count": null,
   "metadata": {},
   "outputs": [],
   "source": [
    "result = or_query(df, [\"Bankrpptcy\", \"Bankruptcy\"])"
   ]
  },
  {
   "cell_type": "code",
   "execution_count": null,
   "metadata": {},
   "outputs": [],
   "source": [
    "for row in result.iterrows():\n",
    "    print(row[1][\"paragraph\"], end=\"\\n\\n\")"
   ]
  },
  {
   "cell_type": "code",
   "execution_count": null,
   "metadata": {},
   "outputs": [],
   "source": []
  }
 ],
 "metadata": {
  "kernelspec": {
   "display_name": "info_retrieval",
   "language": "python",
   "name": "python3"
  },
  "language_info": {
   "codemirror_mode": {
    "name": "ipython",
    "version": 3
   },
   "file_extension": ".py",
   "mimetype": "text/x-python",
   "name": "python",
   "nbconvert_exporter": "python",
   "pygments_lexer": "ipython3",
   "version": "3.10.9"
  },
  "orig_nbformat": 4,
  "vscode": {
   "interpreter": {
    "hash": "658a82028ab00f880bc6bcdff014f37899cf9fd6fbfdda117e2e46094372bdf4"
   }
  }
 },
 "nbformat": 4,
 "nbformat_minor": 2
}
