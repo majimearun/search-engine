{
 "cells": [
  {
   "cell_type": "code",
   "execution_count": 1,
   "metadata": {},
   "outputs": [],
   "source": [
    "# importing libraries\n",
    "import pandas as pd\n",
    "from nltk.stem.snowball import SnowballStemmer\n",
    "import spacy\n",
    "import glob"
   ]
  },
  {
   "cell_type": "code",
   "execution_count": 2,
   "metadata": {},
   "outputs": [],
   "source": [
    "# setting up tokenizer and stemmer\n",
    "nlp = spacy.load('en_core_web_sm')\n",
    "stemmer = SnowballStemmer(\"english\")"
   ]
  },
  {
   "cell_type": "code",
   "execution_count": 3,
   "metadata": {},
   "outputs": [],
   "source": [
    "# finction to stem the words of a given string\n",
    "\n",
    "def clean (df, stemmer, nlp, stem = True, tokenize = True):\n",
    "    # snowballstemming\n",
    "    if stem:\n",
    "        df[\"stemmed\"] = df[\"paragraph\"].apply(lambda x: \" \".join([stemmer.stem(word) for word in x.split()]))\n",
    "    # tokenization\n",
    "    if tokenize:\n",
    "        df[\"tokenized\"] = df[\"paragraph\"].apply(lambda x: ' '.join([token.lemma_ for token in nlp(x)]))\n",
    "    "
   ]
  },
  {
   "cell_type": "code",
   "execution_count": 4,
   "metadata": {},
   "outputs": [
    {
     "name": "stdout",
     "output_type": "stream",
     "text": [
      "original: Approved by the Superintendent of Financial Services for use as the standard Owners Policy on or\n",
      "after June 1 2016\n",
      "stemmed: approv by the superintend of financi servic for use as the standard owner polici on or after june 1 2016\n",
      "tokenized: approve by the Superintendent of Financial Services for use as the standard Owners Policy on or \n",
      " after June 1 2016\n"
     ]
    }
   ],
   "source": [
    "# test_run\n",
    "test_file = pd.read_csv(\"test_file.csv\")\n",
    "clean(test_file, stemmer, nlp)\n",
    "print(f\"original: {test_file.iloc[0].paragraph}\")\n",
    "print(f\"stemmed: {test_file.iloc[0].stemmed}\")\n",
    "print(f\"tokenized: {test_file.iloc[0].tokenized}\")"
   ]
  },
  {
   "cell_type": "code",
   "execution_count": 5,
   "metadata": {},
   "outputs": [],
   "source": [
    "auto_files = glob.glob(\"/home/majime/programming/github/information-retrieval-assignments/assignment 1/csvs/Auto/*.csv\")\n",
    "for file in auto_files:\n",
    "    df = pd.read_csv(file)\n",
    "    clean(df, stemmer, nlp)\n",
    "    df.to_csv(file, index=False)\n"
   ]
  },
  {
   "cell_type": "code",
   "execution_count": 6,
   "metadata": {},
   "outputs": [],
   "source": [
    "property_files = glob.glob(\"/home/majime/programming/github/information-retrieval-assignments/assignment 1/csvs/Property/*.csv\")\n",
    "for file in property_files:\n",
    "    df = pd.read_csv(file)\n",
    "    clean(df, stemmer, nlp)\n",
    "    df.to_csv(file, index=False)"
   ]
  }
 ],
 "metadata": {
  "kernelspec": {
   "display_name": "info_retrieval",
   "language": "python",
   "name": "python3"
  },
  "language_info": {
   "codemirror_mode": {
    "name": "ipython",
    "version": 3
   },
   "file_extension": ".py",
   "mimetype": "text/x-python",
   "name": "python",
   "nbconvert_exporter": "python",
   "pygments_lexer": "ipython3",
   "version": "3.10.9"
  },
  "orig_nbformat": 4,
  "vscode": {
   "interpreter": {
    "hash": "658a82028ab00f880bc6bcdff014f37899cf9fd6fbfdda117e2e46094372bdf4"
   }
  }
 },
 "nbformat": 4,
 "nbformat_minor": 2
}
