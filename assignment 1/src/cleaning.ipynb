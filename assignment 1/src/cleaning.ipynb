{
 "cells": [
  {
   "cell_type": "code",
   "execution_count": 4,
   "metadata": {},
   "outputs": [],
   "source": [
    "# import libraries\n",
    "import pandas as pd\n",
    "import glob"
   ]
  },
  {
   "cell_type": "code",
   "execution_count": 5,
   "metadata": {},
   "outputs": [],
   "source": [
    "# function to read a text file and separate it into paragraphs\n",
    "def read_text_file(file, threshold):\n",
    "    with open(file, 'r') as f:\n",
    "        text = f.read()\n",
    "        paragraphs = text.split('\\n\\n')\n",
    "        # remove paragraphs that have a length below a set threshold\n",
    "        paragraphs = [p for p in paragraphs if len(p) > threshold]\n",
    "        # remove punctuations\n",
    "        punctuations = '''!()-[]{};:'\"\\,<>./?@#$%^&*_~'''\n",
    "        paragraphs = [p.translate(str.maketrans('', '', punctuations)) for p in paragraphs]\n",
    "        return paragraphs"
   ]
  },
  {
   "cell_type": "code",
   "execution_count": 6,
   "metadata": {},
   "outputs": [
    {
     "name": "stdout",
     "output_type": "stream",
     "text": [
      "About This Policy\n",
      "This is your automobile insurance policy It is written in easy to understand language Please read it\n",
      "carefully so you know your rights and obligations and the rights and obligations of your insurance company\n",
      "Here is a summary of each Section of the policy For details of each coverage and the conditions that apply\n",
      "consult the appropriate Sections of the policy\n",
      "Section 1  Introduction contains information that applies to the entire policy In order to understand what\n",
      "is covered and what is not covered by each coverage you should read Sections 1 and 2 and the entire Section\n",
      "of the policy that deals with the specific coverage\n",
      "Section 2  What Automobiles Are Covered explains what coverages are available to a described\n",
      "automobile and to other types of automobiles for example newly acquired or temporary substitute\n",
      "automobiles when you have a specific coverage for a described automobile\n",
      "Section 3  Liability Coverage describes what we will cover if someone is killed or injured in an accident\n",
      "or their property is damaged when you or other insured persons are at fault in the accident\n",
      "Section 4  Accident Benefits Coverage outlines benefits available if you are injured in an accident\n",
      "regardless of who caused the accident\n",
      "Section 5  Uninsured Automobile Coverage describes what we will cover if someone is injured or killed\n",
      "by an uninsured motorist or by a hitandrun driver\n",
      "Section 6  Direct Compensation  Property Damage Coverage describes what we will cover if there is\n",
      "damage to your automobile in an accident that is not entirely your fault\n",
      "Section 7  Loss or Damage Coverages describes optional coverage against loss of or damage to your\n",
      "automobile caused by collision fire theft and a variety of other unpredictable risks\n",
      "Section 8  Statutory Conditions lists the conditions required by the Insurance Act for all automobile\n",
      "insurance policies in Ontario For convenience the conditions have been included in each Section of the\n",
      "policy where they apply If there is a discrepancy between the Statutory Conditions and the wording in the\n",
      "policy the Statutory Conditions in Section 8 prevail\n",
      "For purposes of the Insurance Companies Act Canada this document was issued in the course of the\n",
      "insurance company’s insurance business in Canada\n"
     ]
    }
   ],
   "source": [
    "# test run\n",
    "test_file = \"/home/majime/programming/github/information-retrieval-assignments/assignment 1/txts/Auto/1215E.2.txt\"\n",
    "paragraphs = read_text_file(test_file, 100)\n",
    "print(paragraphs[1])"
   ]
  },
  {
   "cell_type": "code",
   "execution_count": 7,
   "metadata": {},
   "outputs": [
    {
     "data": {
      "text/html": [
       "<div>\n",
       "<style scoped>\n",
       "    .dataframe tbody tr th:only-of-type {\n",
       "        vertical-align: middle;\n",
       "    }\n",
       "\n",
       "    .dataframe tbody tr th {\n",
       "        vertical-align: top;\n",
       "    }\n",
       "\n",
       "    .dataframe thead th {\n",
       "        text-align: right;\n",
       "    }\n",
       "</style>\n",
       "<table border=\"1\" class=\"dataframe\">\n",
       "  <thead>\n",
       "    <tr style=\"text-align: right;\">\n",
       "      <th></th>\n",
       "      <th>paragraph</th>\n",
       "    </tr>\n",
       "  </thead>\n",
       "  <tbody>\n",
       "    <tr>\n",
       "      <th>0</th>\n",
       "      <td>Approved by the Superintendent of Financial Se...</td>\n",
       "    </tr>\n",
       "    <tr>\n",
       "      <th>1</th>\n",
       "      <td>About This Policy\\nThis is your automobile ins...</td>\n",
       "    </tr>\n",
       "    <tr>\n",
       "      <th>2</th>\n",
       "      <td>Table of Contents\\nABOUT THIS POLICY  I\\nWHAT ...</td>\n",
       "    </tr>\n",
       "    <tr>\n",
       "      <th>3</th>\n",
       "      <td>Cancelling Your Insurance 6\\nWhen You Cancel  ...</td>\n",
       "    </tr>\n",
       "    <tr>\n",
       "      <th>4</th>\n",
       "      <td>Who and What We Wont Cover 8\\nGeneral Exclusio...</td>\n",
       "    </tr>\n",
       "    <tr>\n",
       "      <th>...</th>\n",
       "      <td>...</td>\n",
       "    </tr>\n",
       "    <tr>\n",
       "      <th>267</th>\n",
       "      <td>4 Where this contract is terminated by the ins...</td>\n",
       "    </tr>\n",
       "    <tr>\n",
       "      <th>268</th>\n",
       "      <td>Any written notice to the insurer may be deliv...</td>\n",
       "    </tr>\n",
       "    <tr>\n",
       "      <th>269</th>\n",
       "      <td>Despite a failure to comply with these statuto...</td>\n",
       "    </tr>\n",
       "    <tr>\n",
       "      <th>270</th>\n",
       "      <td>The Statutory Conditions in Section 8 have bee...</td>\n",
       "    </tr>\n",
       "    <tr>\n",
       "      <th>271</th>\n",
       "      <td>Where It Appears\\n141\\n142\\n143\\n143\\n162\\n162...</td>\n",
       "    </tr>\n",
       "  </tbody>\n",
       "</table>\n",
       "<p>272 rows × 1 columns</p>\n",
       "</div>"
      ],
      "text/plain": [
       "                                             paragraph\n",
       "0    Approved by the Superintendent of Financial Se...\n",
       "1    About This Policy\\nThis is your automobile ins...\n",
       "2    Table of Contents\\nABOUT THIS POLICY  I\\nWHAT ...\n",
       "3    Cancelling Your Insurance 6\\nWhen You Cancel  ...\n",
       "4    Who and What We Wont Cover 8\\nGeneral Exclusio...\n",
       "..                                                 ...\n",
       "267  4 Where this contract is terminated by the ins...\n",
       "268  Any written notice to the insurer may be deliv...\n",
       "269  Despite a failure to comply with these statuto...\n",
       "270  The Statutory Conditions in Section 8 have bee...\n",
       "271  Where It Appears\\n141\\n142\\n143\\n143\\n162\\n162...\n",
       "\n",
       "[272 rows x 1 columns]"
      ]
     },
     "execution_count": 7,
     "metadata": {},
     "output_type": "execute_result"
    }
   ],
   "source": [
    "# store all paragraphs in a csv file\n",
    "def store_paragraphs(paragraphs, file):\n",
    "    df = pd.DataFrame(paragraphs, columns=['paragraph'])\n",
    "    df.to_csv(file, index=False)\n",
    "    return df\n",
    "\n",
    "store_paragraphs(paragraphs, 'test_file.csv')"
   ]
  },
  {
   "cell_type": "code",
   "execution_count": 8,
   "metadata": {},
   "outputs": [],
   "source": [
    "def txt_to_csv_pipeline(file, threshold, output_file):\n",
    "    paragraphs = read_text_file(file, threshold)\n",
    "    df = store_paragraphs(paragraphs, output_file)\n",
    "    return df"
   ]
  },
  {
   "cell_type": "code",
   "execution_count": 9,
   "metadata": {},
   "outputs": [],
   "source": [
    "auto_files = glob.glob(\"/home/majime/programming/github/information-retrieval-practice/assignment 1/txts/Auto/*.txt\")\n",
    "for file in auto_files:\n",
    "    txt_to_csv_pipeline(file, 100, file.replace('txts', 'csvs').replace('txt', 'csv'))\n"
   ]
  },
  {
   "cell_type": "code",
   "execution_count": 10,
   "metadata": {},
   "outputs": [],
   "source": [
    "property_files = glob.glob(\"/home/majime/programming/github/information-retrieval-practice/assignment 1/txts/Property/*.txt\")\n",
    "for file in property_files:\n",
    "    txt_to_csv_pipeline(file, 100, file.replace('txts', 'csvs').replace('txt', 'csv'))"
   ]
  }
 ],
 "metadata": {
  "kernelspec": {
   "display_name": "info_retrieval",
   "language": "python",
   "name": "python3"
  },
  "language_info": {
   "codemirror_mode": {
    "name": "ipython",
    "version": 3
   },
   "file_extension": ".py",
   "mimetype": "text/x-python",
   "name": "python",
   "nbconvert_exporter": "python",
   "pygments_lexer": "ipython3",
   "version": "3.10.9"
  },
  "orig_nbformat": 4,
  "vscode": {
   "interpreter": {
    "hash": "658a82028ab00f880bc6bcdff014f37899cf9fd6fbfdda117e2e46094372bdf4"
   }
  }
 },
 "nbformat": 4,
 "nbformat_minor": 2
}
