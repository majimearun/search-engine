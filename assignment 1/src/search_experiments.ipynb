{
 "cells": [
  {
   "cell_type": "code",
   "execution_count": 1,
   "metadata": {},
   "outputs": [],
   "source": [
    "# importing libraries\n",
    "import pandas as pd\n",
    "import numpy as np\n",
    "import glob\n",
    "import sys\n",
    "import spacy\n",
    "from LinkedList import LinkedList\n",
    "\n",
    "nlp = spacy.load('en_core_web_sm')\n",
    "sys.setrecursionlimit(10000)"
   ]
  },
  {
   "cell_type": "code",
   "execution_count": 2,
   "metadata": {},
   "outputs": [],
   "source": [
    "auto_df = pd.read_csv('/home/majime/programming/github/information-retrieval-assignments/assignment 1/tokenized/auto.csv')\n",
    "property_df = pd.read_csv('/home/majime/programming/github/information-retrieval-assignments/assignment 1/tokenized/property.csv')"
   ]
  },
  {
   "cell_type": "code",
   "execution_count": 3,
   "metadata": {},
   "outputs": [],
   "source": [
    "def create_postings_list(x):\n",
    "    x = str(x)\n",
    "    posting_list = set()\n",
    "    for word in x.split():\n",
    "        posting_list.add(word.lower())\n",
    "    posting_list = list(posting_list)\n",
    "    # remove strings with only punctuations\n",
    "    punctuations = '''!()-[]{};:'\"\\,<>./?@#$%^&*_~=+'''\n",
    "    for word in posting_list:\n",
    "        if word in punctuations:\n",
    "            posting_list.remove(word)\n",
    "    return sorted((posting_list))\n",
    "\n",
    "auto_df['posting_list'] = auto_df['tokenized'].apply(create_postings_list)\n",
    "property_df['posting_list'] = property_df['tokenized'].apply(create_postings_list)"
   ]
  },
  {
   "cell_type": "code",
   "execution_count": 4,
   "metadata": {},
   "outputs": [],
   "source": [
    "def and_query(df, s: list):\n",
    "    for word in s:\n",
    "        word = nlp(word)[0].lemma_.lower()\n",
    "        df = df[df[\"posting_list\"].apply(lambda x: word in x)]\n",
    "    return df"
   ]
  },
  {
   "cell_type": "code",
   "execution_count": 5,
   "metadata": {},
   "outputs": [],
   "source": [
    "def or_query(df, s: list):\n",
    "    union_df = pd.DataFrame(columns = df.columns)\n",
    "    for word in s:\n",
    "        word = nlp(word)[0].lemma_.lower()\n",
    "        union_df = pd.concat([union_df, df[df[\"posting_list\"].apply(lambda x: word in x)]])\n",
    "    return union_df"
   ]
  },
  {
   "cell_type": "code",
   "execution_count": 6,
   "metadata": {},
   "outputs": [],
   "source": [
    "main_df = pd.concat([auto_df, property_df])\n",
    "corpus = set()\n",
    "for l in main_df.posting_list:\n",
    "    for word in l:\n",
    "        corpus.add(word)\n",
    "corpus = sorted(list(corpus))"
   ]
  },
  {
   "cell_type": "code",
   "execution_count": 7,
   "metadata": {},
   "outputs": [],
   "source": [
    "def create_inverted_list(df):\n",
    "    inverted_list = {}\n",
    "    for word in corpus:\n",
    "        inverted_list[word] = LinkedList()\n",
    "    for row in df.iterrows():\n",
    "        l = row[1][\"posting_list\"]\n",
    "        for word in l:\n",
    "            inverted_list[word].append(row[0])\n",
    "    for word in inverted_list:\n",
    "        inverted_list[word].sort()\n",
    "    return inverted_list\n",
    "\n",
    "inverted_list = create_inverted_list(main_df)"
   ]
  },
  {
   "cell_type": "code",
   "execution_count": 10,
   "metadata": {},
   "outputs": [],
   "source": [
    "def get_all_rotations(s):\n",
    "    rotations = []\n",
    "    for i in range(len(s)):\n",
    "        rotations.append(s[i:] + s[:i])\n",
    "    return rotations"
   ]
  },
  {
   "cell_type": "code",
   "execution_count": 11,
   "metadata": {},
   "outputs": [],
   "source": [
    "\n",
    "def permuterm_indexing(inv_list):\n",
    "    perm_index = {}\n",
    "    for word in inv_list:\n",
    "        word_perm = word + \"$\"\n",
    "        rotations = get_all_rotations(word_perm)\n",
    "        for rotation in rotations:\n",
    "            q = rotation.split(\"$\")[-1]\n",
    "            if q not in perm_index:\n",
    "                perm_index[q] = LinkedList()\n",
    "            perm_index[q].append(word)\n",
    "    return perm_index\n",
    "\n",
    "    \n",
    "perm_index = permuterm_indexing(inverted_list) "
   ]
  },
  {
   "cell_type": "code",
   "execution_count": 106,
   "metadata": {},
   "outputs": [],
   "source": [
    "def reverse_permuterm_indexing(inv_list):\n",
    "    rev_perm_index = {}\n",
    "    for word in inv_list:\n",
    "        word_perm = \"$\" + word\n",
    "        word_perm = word_perm[::-1] \n",
    "        rotations = get_all_rotations(word_perm)\n",
    "        for rotation in rotations:\n",
    "            q = rotation.split(\"$\")[-1]\n",
    "            if q not in rev_perm_index:\n",
    "                rev_perm_index[q] = LinkedList()\n",
    "            rev_perm_index[q].append(word)\n",
    "    return rev_perm_index\n",
    "\n",
    "rev_perm_index = reverse_permuterm_indexing(inverted_list)"
   ]
  },
  {
   "cell_type": "code",
   "execution_count": 121,
   "metadata": {},
   "outputs": [],
   "source": [
    "def query_permuterm_index(query, perm_index, rev_perm_index):\n",
    "    if \"*\" in query:\n",
    "        if query[-1] == \"*\":\n",
    "            query = query + \"$\"\n",
    "            rotations = get_all_rotations(query)\n",
    "            result = []\n",
    "            for rotation in rotations:\n",
    "                if rotation[0] == \"*\":\n",
    "                    q = rotation[2:]\n",
    "                    if q in perm_index:\n",
    "                        for word in perm_index[q]:\n",
    "                            result.append(word.data)\n",
    "        elif query[0] == \"*\":\n",
    "            query = \"$\" + query\n",
    "            query = query[::-1]\n",
    "            print(query)\n",
    "            rotations = get_all_rotations(query)\n",
    "            result = []\n",
    "            for rotation in rotations:\n",
    "                if rotation[0] == \"*\":\n",
    "                    q = rotation[2:]\n",
    "                    if q in rev_perm_index:\n",
    "                        for word in rev_perm_index[q]:\n",
    "                            result.append(word.data)\n",
    "                            \n",
    "        else:\n",
    "            halves = query.split(\"*\")\n",
    "            left = halves[0] + \"*\" + \"$\"\n",
    "            rotations = get_all_rotations(left)\n",
    "            left_result = []\n",
    "            for rotation in rotations:\n",
    "                if rotation[0] == \"*\":\n",
    "                    q = rotation[2:]\n",
    "                    if q in perm_index:\n",
    "                        for word in perm_index[q]:\n",
    "                            left_result.append(word.data)\n",
    "            right = \"$\" + \"*\" + halves[1]\n",
    "            right = right[::-1]\n",
    "            rotations = get_all_rotations(right)\n",
    "            right_result = []\n",
    "            for rotation in rotations:\n",
    "                if rotation[0] == \"*\":\n",
    "                    q = rotation[2:]\n",
    "                    if q in rev_perm_index:\n",
    "                        for word in rev_perm_index[q]:\n",
    "                           right_result.append(word.data)\n",
    "            result = list(set(left_result) & set(right_result))\n",
    "            \n",
    "    return result"
   ]
  },
  {
   "cell_type": "code",
   "execution_count": 122,
   "metadata": {},
   "outputs": [],
   "source": [
    "trial = query_permuterm_index(\"g*ed\", perm_index, rev_perm_index)"
   ]
  },
  {
   "cell_type": "code",
   "execution_count": 123,
   "metadata": {},
   "outputs": [
    {
     "data": {
      "text/plain": [
       "['glazed',\n",
       " 'garaged',\n",
       " 'gathered',\n",
       " 'gained',\n",
       " 'generated',\n",
       " 'gaged',\n",
       " 'governed',\n",
       " 'granted',\n",
       " 'guaranteed']"
      ]
     },
     "execution_count": 123,
     "metadata": {},
     "output_type": "execute_result"
    }
   ],
   "source": [
    "trial"
   ]
  },
  {
   "cell_type": "code",
   "execution_count": null,
   "metadata": {},
   "outputs": [],
   "source": []
  }
 ],
 "metadata": {
  "kernelspec": {
   "display_name": "info_retrieval",
   "language": "python",
   "name": "python3"
  },
  "language_info": {
   "codemirror_mode": {
    "name": "ipython",
    "version": 3
   },
   "file_extension": ".py",
   "mimetype": "text/x-python",
   "name": "python",
   "nbconvert_exporter": "python",
   "pygments_lexer": "ipython3",
   "version": "3.10.9"
  },
  "orig_nbformat": 4,
  "vscode": {
   "interpreter": {
    "hash": "658a82028ab00f880bc6bcdff014f37899cf9fd6fbfdda117e2e46094372bdf4"
   }
  }
 },
 "nbformat": 4,
 "nbformat_minor": 2
}
